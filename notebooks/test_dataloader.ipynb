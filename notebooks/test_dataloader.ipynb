{
 "cells": [
  {
   "cell_type": "code",
   "execution_count": 1,
   "id": "initial_id",
   "metadata": {
    "ExecuteTime": {
     "end_time": "2024-03-14T13:31:52.954880Z",
     "start_time": "2024-03-14T13:31:49.947844Z"
    },
    "collapsed": true
   },
   "outputs": [],
   "source": [
    "import os\n",
    "import sys\n",
    "sys.path.append(\"/home/yang_liu/python_workspace/gaussian-splatting-lightning\")\n",
    "\n",
    "from matplotlib import pyplot as plt\n",
    "\n",
    "import torch\n",
    "import math\n",
    "import random\n",
    "import numpy as np\n",
    "from gsplat import project_gaussians\n",
    "from gsplat.rasterize import rasterize_gaussians\n",
    "\n",
    "from internal.utils.gaussian_model_loader import GaussianModelLoader\n",
    "from internal.dataparsers.colmap_dataparser import ColmapParams, ColmapDataParser\n",
    "from internal.dataparsers.colmap_joint_dataparser import ColmapJointDataParser\n",
    "\n",
    "torch.set_grad_enabled(False)\n",
    "\n",
    "%matplotlib inline\n",
    "%config InlineBackend.figure_format = 'retina'"
   ]
  },
  {
   "cell_type": "code",
   "execution_count": 2,
   "id": "97c2411854d42876",
   "metadata": {
    "ExecuteTime": {
     "end_time": "2024-03-14T13:31:55.706718Z",
     "start_time": "2024-03-14T13:31:52.956196Z"
    },
    "collapsed": false
   },
   "outputs": [
    {
     "name": "stdout",
     "output_type": "stream",
     "text": [
      "Gaussian count: 1265420\n",
      "appearance group by camera id\n",
      "loading colmap 3D points\n",
      "[colmap_joint dataparser] train set images: 453, val set images: 453, loaded mask: 0\n",
      "Test camera count: 453\n"
     ]
    }
   ],
   "source": [
    "# load model and dataset\n",
    "model, renderer = GaussianModelLoader.search_and_load(\n",
    "    \"../outputs/mc_fuse_w\",\n",
    "    sh_degree=3,\n",
    "    device=\"cuda\",\n",
    ")\n",
    "print(\"Gaussian count: {}\".format(model.get_xyz.shape[0]))\n",
    "# dataset\n",
    "dataparser_outputs = ColmapJointDataParser(\n",
    "    os.path.expanduser(\"../data/matrix_city/aerial_street_fusion/fuse/train\"),\n",
    "    os.path.abspath(\"\"),\n",
    "    global_rank=0,\n",
    "    params=ColmapParams(\n",
    "        eval_image_select_mode=\"ratio\",\n",
    "        eval_ratio=1.0,\n",
    "    ),\n",
    ").get_outputs()\n",
    "print(\"Test camera count: {}\".format(len(dataparser_outputs.test_set.cameras)))"
   ]
  },
  {
   "cell_type": "code",
   "execution_count": 3,
   "id": "3942e0b6",
   "metadata": {},
   "outputs": [
    {
     "name": "stdout",
     "output_type": "stream",
     "text": [
      "cache all images\n"
     ]
    },
    {
     "name": "stderr",
     "output_type": "stream",
     "text": [
      "#46423 caching images (1st: 0):   0%|          | 0/453 [00:00<?, ?it/s]"
     ]
    },
    {
     "name": "stderr",
     "output_type": "stream",
     "text": [
      "#46423 caching images (1st: 0): 100%|██████████| 453/453 [00:14<00:00, 30.36it/s]\n"
     ]
    }
   ],
   "source": [
    "# generate dataloader\n",
    "from internal.dataset import Dataset, CacheDataLoader\n",
    "\n",
    "camera_ids = []\n",
    "for idx, image in enumerate(dataparser_outputs.train_set):\n",
    "    image_name, _, _, camera = image\n",
    "    camera_ids.append(camera.camera_type)\n",
    "\n",
    "camera_ids_tensor = torch.tensor(camera_ids)\n",
    "class_sample_count = torch.tensor(\n",
    "    [(camera_ids_tensor == t).sum() for t in torch.unique(camera_ids_tensor, sorted=True)]\n",
    ")\n",
    "weight = 1. / class_sample_count.float()\n",
    "samples_weight = torch.tensor([weight[t] for t in camera_ids_tensor])\n",
    "sampler = torch.utils.data.WeightedRandomSampler(samples_weight, len(samples_weight))\n",
    "\n",
    "dataloader = CacheDataLoader(\n",
    "    Dataset(dataparser_outputs.train_set, undistort_image=False),\n",
    "    max_cache_num=-1,\n",
    "    shuffle=None,\n",
    "    sampler=sampler,\n",
    "    seed=torch.initial_seed(),  # seed with global rank\n",
    "    num_workers=8,\n",
    "    distributed=False,\n",
    "    world_size=1,\n",
    "    global_rank=0,\n",
    ")"
   ]
  },
  {
   "cell_type": "code",
   "execution_count": 4,
   "id": "5e18eb21",
   "metadata": {},
   "outputs": [
    {
     "name": "stdout",
     "output_type": "stream",
     "text": [
      "Camera 0 count: 229\n",
      "Camera 1 count: 224\n",
      "[0 1 1 0 1 1 0 0 0 1 1 1 1 1 1 0 1 1 1 0 0 1 0 0 1 0 0 1 0 1 0 0 1 1 0 1 0\n",
      " 0 1 1 1 1 0 1 0 0 1 0 1 0 0 0 0 1 0 0 1 0 0 1 0 0 1 0 1 0 0 1 1 0 0 1 1 1\n",
      " 1 0 1 1 0 1 0 0 0 1 1 1 0 0 0 1 0 1 1 1 1 0 0 1 0 0 0 0 1 0 0 0 0 1 0 0 0\n",
      " 1 0 1 1 0 0 0 0 1 1 0 1 1 0 0 1 1 1 0 0 1 1 0 0 0 0 0 1 1 1 0 1 0 1 0 0 1\n",
      " 0 1 0 0 1 0 0 0 1 1 0 1 1 1 0 1 1 0 1 1 0 1 1 0 0 0 0 0 1 1 1 1 1 0 1 0 0\n",
      " 1 0 1 1 0 0 1 0 0 1 1 0 0 1 0 0 0 0 1 1 1 1 1 0 0 0 0 0 0 0 0 1 1 1 1 0 1\n",
      " 0 1 0 1 0 1 1 1 0 0 0 1 1 1 1 1 0 0 0 0 0 1 1 0 0 1 0 0 1 1 1 1 1 0 1 0 0\n",
      " 1 1 0 1 1 1 1 1 1 1 0 0 1 1 0 0 1 1 1 1 1 1 1 0 1 1 0 1 1 1 0 1 1 1 0 1 0\n",
      " 0 0 0 1 0 0 1 0 1 0 0 0 1 0 1 1 1 0 0 0 0 0 0 0 1 0 1 1 1 0 1 1 0 0 1 1 0\n",
      " 0 1 0 0 0 0 0 0 0 0 0 1 0 0 0 1 1 0 1 0 0 0 1 1 1 0 0 0 0 1 1 1 1 0 0 0 0\n",
      " 1 1 1 1 0 0 1 1 1 0 1 1 0 1 0 1 1 1 1 1 0 0 0 0 1 1 0 1 0 0 1 0 0 1 0 1 1\n",
      " 1 0 0 1 1 0 0 0 0 1 0 1 1 1 1 1 0 0 0 1 1 1 0 1 0 0 0 0 1 0 0 1 1 0 1 0 1\n",
      " 1 0 1 1 0 0 1 1 0]\n"
     ]
    }
   ],
   "source": [
    "# iterate dataloader\n",
    "cam_samples = list(sampler)\n",
    "cam_ids_sampled = np.array([camera_ids_tensor[i].numpy() for i in cam_samples])\n",
    "# for idx, (cam, gt) in enumerate(dataloader):\n",
    "#     cam_types.append(cam.camera_type.numpy())\n",
    "\n",
    "print(\"Camera 0 count: {}\".format((cam_ids_sampled == 0).sum()))\n",
    "print(\"Camera 1 count: {}\".format((cam_ids_sampled == 1).sum()))\n",
    "print(cam_ids_sampled)"
   ]
  }
 ],
 "metadata": {
  "kernelspec": {
   "display_name": "Python 3",
   "language": "python",
   "name": "python3"
  },
  "language_info": {
   "codemirror_mode": {
    "name": "ipython",
    "version": 3
   },
   "file_extension": ".py",
   "mimetype": "text/x-python",
   "name": "python",
   "nbconvert_exporter": "python",
   "pygments_lexer": "ipython3",
   "version": "3.9.19"
  }
 },
 "nbformat": 4,
 "nbformat_minor": 5
}
