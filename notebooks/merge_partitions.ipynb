{
 "cells": [
  {
   "cell_type": "code",
   "id": "initial_id",
   "metadata": {
    "collapsed": true,
    "ExecuteTime": {
     "end_time": "2024-05-28T11:29:36.856021Z",
     "start_time": "2024-05-28T11:29:34.013115Z"
    }
   },
   "source": [
    "import os\n",
    "import torch\n",
    "import json\n",
    "from tqdm.auto import tqdm\n",
    "from gsplat.sh import spherical_harmonics\n",
    "from internal.models.gaussian_model_simplified import GaussianModelSimplified\n",
    "from internal.renderers.gsplat_renderer import GSPlatRenderer\n",
    "from internal.renderers.gsplat_hit_pixel_count_renderer import GSplatHitPixelCountRenderer\n",
    "from internal.dataparsers.colmap_dataparser import ColmapDataParser\n",
    "from internal.configs.dataset import ColmapParams\n",
    "from internal.utils.sh_utils import RGB2SH\n",
    "from internal.utils.gaussian_model_loader import GaussianModelLoader"
   ],
   "outputs": [],
   "execution_count": 1
  },
  {
   "metadata": {
    "ExecuteTime": {
     "end_time": "2024-05-28T11:29:36.868165Z",
     "start_time": "2024-05-28T11:29:36.859260Z"
    }
   },
   "cell_type": "code",
   "source": [
    "torch.autograd.set_grad_enabled(False)"
   ],
   "id": "d037512274547661",
   "outputs": [
    {
     "data": {
      "text/plain": "<torch.autograd.grad_mode.set_grad_enabled at 0x7fb7f8488760>"
     },
     "execution_count": 2,
     "metadata": {},
     "output_type": "execute_result"
    }
   ],
   "execution_count": 2
  },
  {
   "metadata": {
    "ExecuteTime": {
     "end_time": "2024-05-28T11:29:38.516122Z",
     "start_time": "2024-05-28T11:29:38.513298Z"
    }
   },
   "cell_type": "code",
   "source": [
    "partition_base_dir = os.path.expanduser(\n",
    "    \"~/data/image_set/JNUCar_undistorted/colmap/drone/dense_max_2048/0/partitions-threshold_0.2/\")"
   ],
   "id": "209dec5ce78e9013",
   "outputs": [],
   "execution_count": 3
  },
  {
   "metadata": {
    "ExecuteTime": {
     "end_time": "2024-05-28T11:30:04.470824Z",
     "start_time": "2024-05-28T11:29:40.463501Z"
    }
   },
   "cell_type": "code",
   "source": [
    "dataparser_outputs = ColmapDataParser(\n",
    "    os.path.join(partition_base_dir, \"..\"),\n",
    "    output_path=os.getcwd(),\n",
    "    global_rank=0,\n",
    "    params=ColmapParams(\n",
    "        appearance_groups=\"appearance_image_dedicated\",\n",
    "        eval_step=32\n",
    "    ),\n",
    ").get_outputs()"
   ],
   "id": "2c88ffdfd0bf106a",
   "outputs": [
    {
     "name": "stdout",
     "output_type": "stream",
     "text": [
      "loading appearance groups from /home/zhensheng/data/image_set/JNUCar_undistorted/colmap/drone/dense_max_2048/0/partitions-threshold_0.2/../appearance_image_dedicated\n",
      "loading colmap 3D points\n",
      "[colmap dataparser] train set images: 4857, val set images: 152, loaded mask: 0\n"
     ]
    }
   ],
   "execution_count": 4
  },
  {
   "metadata": {
    "ExecuteTime": {
     "end_time": "2024-05-28T11:30:04.485864Z",
     "start_time": "2024-05-28T11:30:04.471718Z"
    }
   },
   "cell_type": "code",
   "source": [
    "image_name_to_camera_idx = {}\n",
    "for idx, name in enumerate(dataparser_outputs.train_set.image_names):\n",
    "    image_name_to_camera_idx[name] = idx\n",
    "image_name_to_camera_idx"
   ],
   "id": "871bd6151ae21d54",
   "outputs": [
    {
     "data": {
      "text/plain": "{'drone/M300/东朝向60度/DJI_0407.jpg': 0,\n 'drone/M300/东朝向60度/DJI_0408.jpg': 1,\n 'drone/M300/东朝向60度/DJI_0409.jpg': 2,\n 'drone/M300/东朝向60度/DJI_0410.jpg': 3,\n 'drone/M300/东朝向60度/DJI_0411.jpg': 4,\n 'drone/M300/东朝向60度/DJI_0412.jpg': 5,\n 'drone/M300/东朝向60度/DJI_0413.jpg': 6,\n 'drone/M300/东朝向60度/DJI_0414.jpg': 7,\n 'drone/M300/东朝向60度/DJI_0415.jpg': 8,\n 'drone/M300/东朝向60度/DJI_0416.jpg': 9,\n 'drone/M300/东朝向60度/DJI_0417.jpg': 10,\n 'drone/M300/东朝向60度/DJI_0418.jpg': 11,\n 'drone/M300/东朝向60度/DJI_0419.jpg': 12,\n 'drone/M300/东朝向60度/DJI_0421.jpg': 13,\n 'drone/M300/东朝向60度/DJI_0422.jpg': 14,\n 'drone/M300/东朝向60度/DJI_0423.jpg': 15,\n 'drone/M300/东朝向60度/DJI_0424.jpg': 16,\n 'drone/M300/东朝向60度/DJI_0425.jpg': 17,\n 'drone/M300/东朝向60度/DJI_0426.jpg': 18,\n 'drone/M300/东朝向60度/DJI_0427.jpg': 19,\n 'drone/M300/东朝向60度/DJI_0428.jpg': 20,\n 'drone/M300/东朝向60度/DJI_0429.jpg': 21,\n 'drone/M300/东朝向60度/DJI_0430.jpg': 22,\n 'drone/M300/东朝向60度/DJI_0431.jpg': 23,\n 'drone/M300/东朝向60度/DJI_0432.jpg': 24,\n 'drone/M300/东朝向60度/DJI_0433.jpg': 25,\n 'drone/M300/东朝向60度/DJI_0434.jpg': 26,\n 'drone/M300/东朝向60度/DJI_0435.jpg': 27,\n 'drone/M300/东朝向60度/DJI_0436.jpg': 28,\n 'drone/M300/东朝向60度/DJI_0437.jpg': 29,\n 'drone/M300/东朝向60度/DJI_0438.jpg': 30,\n 'drone/M300/东朝向60度/DJI_0439.jpg': 31,\n 'drone/M300/东朝向60度/DJI_0440.jpg': 32,\n 'drone/M300/东朝向60度/DJI_0441.jpg': 33,\n 'drone/M300/东朝向60度/DJI_0442.jpg': 34,\n 'drone/M300/东朝向60度/DJI_0443.jpg': 35,\n 'drone/M300/东朝向60度/DJI_0444.jpg': 36,\n 'drone/M300/东朝向60度/DJI_0445.jpg': 37,\n 'drone/M300/东朝向60度/DJI_0446.jpg': 38,\n 'drone/M300/东朝向60度/DJI_0447.jpg': 39,\n 'drone/M300/东朝向60度/DJI_0448.jpg': 40,\n 'drone/M300/东朝向60度/DJI_0449.jpg': 41,\n 'drone/M300/东朝向60度/DJI_0450.jpg': 42,\n 'drone/M300/东朝向60度/DJI_0451.jpg': 43,\n 'drone/M300/东朝向60度/DJI_0452.jpg': 44,\n 'drone/M300/东朝向60度/DJI_0453.jpg': 45,\n 'drone/M300/东朝向60度/DJI_0454.jpg': 46,\n 'drone/M300/东朝向60度/DJI_0455.jpg': 47,\n 'drone/M300/东朝向60度/DJI_0456.jpg': 48,\n 'drone/M300/东朝向60度/DJI_0457.jpg': 49,\n 'drone/M300/东朝向60度/DJI_0458.jpg': 50,\n 'drone/M300/东朝向60度/DJI_0459.jpg': 51,\n 'drone/M300/东朝向60度/DJI_0460.jpg': 52,\n 'drone/M300/东朝向60度/DJI_0461.jpg': 53,\n 'drone/M300/东朝向60度/DJI_0462.jpg': 54,\n 'drone/M300/东朝向60度/DJI_0463.jpg': 55,\n 'drone/M300/东朝向60度/DJI_0464.jpg': 56,\n 'drone/M300/东朝向60度/DJI_0465.jpg': 57,\n 'drone/M300/东朝向60度/DJI_0466.jpg': 58,\n 'drone/M300/东朝向60度/DJI_0467.jpg': 59,\n 'drone/M300/东朝向60度/DJI_0468.jpg': 60,\n 'drone/M300/东朝向60度/DJI_0469.jpg': 61,\n 'drone/M300/东朝向60度/DJI_0470.jpg': 62,\n 'drone/M300/东朝向60度/DJI_0471.jpg': 63,\n 'drone/M300/东朝向60度/DJI_0472.jpg': 64,\n 'drone/M300/东朝向60度/DJI_0473.jpg': 65,\n 'drone/M300/东朝向60度/DJI_0474.jpg': 66,\n 'drone/M300/东朝向60度/DJI_0475.jpg': 67,\n 'drone/M300/东朝向60度/DJI_0476.jpg': 68,\n 'drone/M300/东朝向60度/DJI_0477.jpg': 69,\n 'drone/M300/东朝向60度/DJI_0478.jpg': 70,\n 'drone/M300/东朝向60度/DJI_0479.jpg': 71,\n 'drone/M300/东朝向60度/DJI_0480.jpg': 72,\n 'drone/M300/东朝向60度/DJI_0481.jpg': 73,\n 'drone/M300/东朝向60度/DJI_0482.jpg': 74,\n 'drone/M300/东朝向60度/DJI_0483.jpg': 75,\n 'drone/M300/东朝向60度/DJI_0484.jpg': 76,\n 'drone/M300/东朝向60度/DJI_0485.jpg': 77,\n 'drone/M300/东朝向60度/DJI_0486.jpg': 78,\n 'drone/M300/东朝向60度/DJI_0487.jpg': 79,\n 'drone/M300/东朝向60度/DJI_0488.jpg': 80,\n 'drone/M300/东朝向60度/DJI_0489.jpg': 81,\n 'drone/M300/东朝向60度/DJI_0490.jpg': 82,\n 'drone/M300/东朝向60度/DJI_0491.jpg': 83,\n 'drone/M300/东朝向60度/DJI_0492.jpg': 84,\n 'drone/M300/东朝向60度/DJI_0493.jpg': 85,\n 'drone/M300/东朝向60度/DJI_0494.jpg': 86,\n 'drone/M300/东朝向60度/DJI_0495.jpg': 87,\n 'drone/M300/东朝向60度/DJI_0496.jpg': 88,\n 'drone/M300/东朝向60度/DJI_0497.jpg': 89,\n 'drone/M300/东朝向60度/DJI_0498.jpg': 90,\n 'drone/M300/东朝向60度/DJI_0499.jpg': 91,\n 'drone/M300/东朝向60度/DJI_0500.jpg': 92,\n 'drone/M300/东朝向60度/DJI_0501.jpg': 93,\n 'drone/M300/东朝向60度/DJI_0502.jpg': 94,\n 'drone/M300/东朝向60度/DJI_0503.jpg': 95,\n 'drone/M300/东朝向60度/DJI_0504.jpg': 96,\n 'drone/M300/东朝向60度/DJI_0505.jpg': 97,\n 'drone/M300/东朝向60度/DJI_0506.jpg': 98,\n 'drone/M300/东朝向60度/DJI_0507.jpg': 99,\n 'drone/M300/东朝向60度/DJI_0508.jpg': 100,\n 'drone/M300/东朝向60度/DJI_0509.jpg': 101,\n 'drone/M300/东朝向60度/DJI_0510.jpg': 102,\n 'drone/M300/东朝向60度/DJI_0511.jpg': 103,\n 'drone/M300/东朝向60度/DJI_0512.jpg': 104,\n 'drone/M300/东朝向60度/DJI_0513.jpg': 105,\n 'drone/M300/东朝向60度/DJI_0514.jpg': 106,\n 'drone/M300/东朝向60度/DJI_0515.jpg': 107,\n 'drone/M300/东朝向60度/DJI_0516.jpg': 108,\n 'drone/M300/东朝向60度/DJI_0517.jpg': 109,\n 'drone/M300/东朝向60度/DJI_0518.jpg': 110,\n 'drone/M300/东朝向60度/DJI_0519.jpg': 111,\n 'drone/M300/东朝向60度/DJI_0520.jpg': 112,\n 'drone/M300/东朝向60度/DJI_0521.jpg': 113,\n 'drone/M300/东朝向60度/DJI_0522.jpg': 114,\n 'drone/M300/东朝向60度/DJI_0523.jpg': 115,\n 'drone/M300/东朝向60度/DJI_0524.jpg': 116,\n 'drone/M300/东朝向60度/DJI_0525.jpg': 117,\n 'drone/M300/东朝向60度/DJI_0526.jpg': 118,\n 'drone/M300/东朝向60度/DJI_0527.jpg': 119,\n 'drone/M300/东朝向60度/DJI_0528.jpg': 120,\n 'drone/M300/东朝向60度/DJI_0529.jpg': 121,\n 'drone/M300/东朝向60度/DJI_0530.jpg': 122,\n 'drone/M300/东朝向60度/DJI_0531.jpg': 123,\n 'drone/M300/东朝向60度/DJI_0532.jpg': 124,\n 'drone/M300/东朝向60度/DJI_0533.jpg': 125,\n 'drone/M300/东朝向60度/DJI_0534.jpg': 126,\n 'drone/M300/东朝向60度/DJI_0535.jpg': 127,\n 'drone/M300/东朝向60度/DJI_0536.jpg': 128,\n 'drone/M300/东朝向60度/DJI_0537.jpg': 129,\n 'drone/M300/东朝向60度/DJI_0538.jpg': 130,\n 'drone/M300/东朝向60度/DJI_0539.jpg': 131,\n 'drone/M300/东朝向60度/DJI_0540.jpg': 132,\n 'drone/M300/东朝向60度/DJI_0541.jpg': 133,\n 'drone/M300/东朝向60度/DJI_0542.jpg': 134,\n 'drone/M300/东朝向60度/DJI_0543.jpg': 135,\n 'drone/M300/东朝向60度/DJI_0544.jpg': 136,\n 'drone/M300/东朝向60度/DJI_0545.jpg': 137,\n 'drone/M300/东朝向60度/DJI_0546.jpg': 138,\n 'drone/M300/东朝向60度/DJI_0547.jpg': 139,\n 'drone/M300/东朝向60度/DJI_0548.jpg': 140,\n 'drone/M300/东朝向60度/DJI_0549.jpg': 141,\n 'drone/M300/东朝向60度/DJI_0550.jpg': 142,\n 'drone/M300/东朝向60度/DJI_0551.jpg': 143,\n 'drone/M300/东朝向60度/DJI_0552.jpg': 144,\n 'drone/M300/东朝向60度/DJI_0553.jpg': 145,\n 'drone/M300/东朝向60度/DJI_0554.jpg': 146,\n 'drone/M300/东朝向60度/DJI_0555.jpg': 147,\n 'drone/M300/东朝向60度/DJI_0556.jpg': 148,\n 'drone/M300/东朝向60度/DJI_0557.jpg': 149,\n 'drone/M300/东朝向60度/DJI_0558.jpg': 150,\n 'drone/M300/东朝向60度/DJI_0559.jpg': 151,\n 'drone/M300/东朝向60度/DJI_0560.jpg': 152,\n 'drone/M300/东朝向60度/DJI_0561.jpg': 153,\n 'drone/M300/东朝向60度/DJI_0562.jpg': 154,\n 'drone/M300/东朝向60度/DJI_0563.jpg': 155,\n 'drone/M300/东朝向60度/DJI_0564.jpg': 156,\n 'drone/M300/东朝向60度/DJI_0565.jpg': 157,\n 'drone/M300/东朝向60度/DJI_0566.jpg': 158,\n 'drone/M300/东朝向60度/DJI_0567.jpg': 159,\n 'drone/M300/东朝向60度/DJI_0568.jpg': 160,\n 'drone/M300/东朝向60度/DJI_0569.jpg': 161,\n 'drone/M300/东朝向60度/DJI_0570.jpg': 162,\n 'drone/M300/东朝向60度/DJI_0571.jpg': 163,\n 'drone/M300/东朝向60度/DJI_0572.jpg': 164,\n 'drone/M300/东朝向60度/DJI_0573.jpg': 165,\n 'drone/M300/东朝向60度/DJI_0574.jpg': 166,\n 'drone/M300/东朝向60度/DJI_0575.jpg': 167,\n 'drone/M300/东朝向60度/DJI_0576.jpg': 168,\n 'drone/M300/东朝向60度/DJI_0577.jpg': 169,\n 'drone/M300/东朝向60度/DJI_0578.jpg': 170,\n 'drone/M300/东朝向60度/DJI_0579.jpg': 171,\n 'drone/M300/东朝向60度/DJI_0580.jpg': 172,\n 'drone/M300/东朝向60度/DJI_0581.jpg': 173,\n 'drone/M300/东朝向60度/DJI_0582.jpg': 174,\n 'drone/M300/东朝向60度/DJI_0583.jpg': 175,\n 'drone/M300/东朝向60度/DJI_0584.jpg': 176,\n 'drone/M300/东朝向60度/DJI_0585.jpg': 177,\n 'drone/M300/东朝向60度/DJI_0586.jpg': 178,\n 'drone/M300/东朝向60度/DJI_0587.jpg': 179,\n 'drone/M300/东朝向60度/DJI_0588.jpg': 180,\n 'drone/M300/东朝向60度/DJI_0589.jpg': 181,\n 'drone/M300/东朝向60度/DJI_0590.jpg': 182,\n 'drone/M300/东朝向60度/DJI_0591.jpg': 183,\n 'drone/M300/东朝向60度/DJI_0592.jpg': 184,\n 'drone/M300/东朝向60度/DJI_0593.jpg': 185,\n 'drone/M300/东朝向60度/DJI_0594.jpg': 186,\n 'drone/M300/东朝向60度/DJI_0595.jpg': 187,\n 'drone/M300/东朝向60度/DJI_0596.jpg': 188,\n 'drone/M300/东朝向60度/DJI_0597.jpg': 189,\n 'drone/M300/东朝向60度/DJI_0598.jpg': 190,\n 'drone/M300/东朝向60度/DJI_0599.jpg': 191,\n 'drone/M300/东朝向60度/DJI_0600.jpg': 192,\n 'drone/M300/东朝向60度/DJI_0601.jpg': 193,\n 'drone/M300/东朝向60度/DJI_0602.jpg': 194,\n 'drone/M300/东朝向60度/DJI_0603.jpg': 195,\n 'drone/M300/东朝向60度/DJI_0604.jpg': 196,\n 'drone/M300/东朝向60度/DJI_0605.jpg': 197,\n 'drone/M300/东朝向60度/DJI_0606.jpg': 198,\n 'drone/M300/东朝向60度/DJI_0607.jpg': 199,\n 'drone/M300/东朝向60度/DJI_0608.jpg': 200,\n 'drone/M300/东朝向60度/DJI_0609.jpg': 201,\n 'drone/M300/东朝向60度/DJI_0610.jpg': 202,\n 'drone/M300/东朝向60度/DJI_0611.jpg': 203,\n 'drone/M300/东朝向60度/DJI_0612.jpg': 204,\n 'drone/M300/东朝向60度/DJI_0613.jpg': 205,\n 'drone/M300/东朝向60度/DJI_0614.jpg': 206,\n 'drone/M300/东朝向60度/DJI_0615.jpg': 207,\n 'drone/M300/东朝向60度/DJI_0616.jpg': 208,\n 'drone/M300/东朝向60度/DJI_0617.jpg': 209,\n 'drone/M300/东朝向60度/DJI_0618.jpg': 210,\n 'drone/M300/东朝向60度/DJI_0619.jpg': 211,\n 'drone/M300/东朝向60度/DJI_0620.jpg': 212,\n 'drone/M300/东朝向60度/DJI_0621.jpg': 213,\n 'drone/M300/东朝向60度/DJI_0622.jpg': 214,\n 'drone/M300/东朝向60度/DJI_0623.jpg': 215,\n 'drone/M300/东朝向60度/DJI_0624.jpg': 216,\n 'drone/M300/东朝向60度/DJI_0625.jpg': 217,\n 'drone/M300/东朝向60度/DJI_0626.jpg': 218,\n 'drone/M300/东朝向60度/DJI_0627.jpg': 219,\n 'drone/M300/东朝向60度/DJI_0628.jpg': 220,\n 'drone/M300/东朝向60度/DJI_0629.jpg': 221,\n 'drone/M300/东朝向60度/DJI_0630.jpg': 222,\n 'drone/M300/东朝向60度/DJI_0631.jpg': 223,\n 'drone/M300/东朝向60度/DJI_0632.jpg': 224,\n 'drone/M300/东朝向60度/DJI_0633.jpg': 225,\n 'drone/M300/东朝向60度/DJI_0634.jpg': 226,\n 'drone/M300/东朝向60度/DJI_0635.jpg': 227,\n 'drone/M300/东朝向60度/DJI_0636.jpg': 228,\n 'drone/M300/东朝向60度/DJI_0637.jpg': 229,\n 'drone/M300/东朝向60度/DJI_0638.jpg': 230,\n 'drone/M300/东朝向60度/DJI_0639.jpg': 231,\n 'drone/M300/东朝向60度/DJI_0640.jpg': 232,\n 'drone/M300/东朝向60度/DJI_0641.jpg': 233,\n 'drone/M300/东朝向60度/DJI_0642.jpg': 234,\n 'drone/M300/东朝向60度/DJI_0643.jpg': 235,\n 'drone/M300/东朝向60度/DJI_0644.jpg': 236,\n 'drone/M300/东朝向60度/DJI_0645.jpg': 237,\n 'drone/M300/东朝向60度/DJI_0646.jpg': 238,\n 'drone/M300/东朝向60度/DJI_0647.jpg': 239,\n 'drone/M300/东朝向60度/DJI_0648.jpg': 240,\n 'drone/M300/东朝向60度/DJI_0649.jpg': 241,\n 'drone/M300/东朝向60度/DJI_0650.jpg': 242,\n 'drone/M300/东朝向60度/DJI_0651.jpg': 243,\n 'drone/M300/东朝向60度/DJI_0652.jpg': 244,\n 'drone/M300/东朝向60度/DJI_0653.jpg': 245,\n 'drone/M300/东朝向60度/DJI_0654.jpg': 246,\n 'drone/M300/东朝向60度/DJI_0655.jpg': 247,\n 'drone/M300/东朝向60度/DJI_0656.jpg': 248,\n 'drone/M300/东朝向60度/DJI_0657.jpg': 249,\n 'drone/M300/东朝向60度/DJI_0658.jpg': 250,\n 'drone/M300/东朝向60度/DJI_0659.jpg': 251,\n 'drone/M300/东朝向60度/DJI_0660.jpg': 252,\n 'drone/M300/东朝向60度/DJI_0661.jpg': 253,\n 'drone/M300/东朝向60度/DJI_0662.jpg': 254,\n 'drone/M300/东朝向60度/DJI_0663.jpg': 255,\n 'drone/M300/东朝向60度/DJI_0664.jpg': 256,\n 'drone/M300/东朝向60度/DJI_0665.jpg': 257,\n 'drone/M300/东朝向60度/DJI_0666.jpg': 258,\n 'drone/M300/东朝向60度/DJI_0667.jpg': 259,\n 'drone/M300/东朝向60度/DJI_0668.jpg': 260,\n 'drone/M300/东朝向60度/DJI_0669.jpg': 261,\n 'drone/M300/东朝向60度/DJI_0670.jpg': 262,\n 'drone/M300/东朝向60度/DJI_0671.jpg': 263,\n 'drone/M300/东朝向60度/DJI_0672.jpg': 264,\n 'drone/M300/东朝向60度/DJI_0673.jpg': 265,\n 'drone/M300/东朝向60度/DJI_0674.jpg': 266,\n 'drone/M300/东朝向60度/DJI_0675.jpg': 267,\n 'drone/M300/东朝向60度/DJI_0676.jpg': 268,\n 'drone/M300/东朝向60度/DJI_0677.jpg': 269,\n 'drone/M300/东朝向60度/DJI_0678.jpg': 270,\n 'drone/M300/东朝向60度/DJI_0679.jpg': 271,\n 'drone/M300/东朝向60度/DJI_0680.jpg': 272,\n 'drone/M300/东朝向60度/DJI_0681.jpg': 273,\n 'drone/M300/东朝向60度/DJI_0682.jpg': 274,\n 'drone/M300/东朝向60度/DJI_0683.jpg': 275,\n 'drone/M300/东朝向60度/DJI_0684.jpg': 276,\n 'drone/M300/东朝向60度/DJI_0685.jpg': 277,\n 'drone/M300/东朝向60度/DJI_0686.jpg': 278,\n 'drone/M300/东朝向60度/DJI_0687.jpg': 279,\n 'drone/M300/东朝向60度/DJI_0688.jpg': 280,\n 'drone/M300/东朝向60度/DJI_0689.jpg': 281,\n 'drone/M300/东朝向60度/DJI_0690.jpg': 282,\n 'drone/M300/东朝向60度/DJI_0691.jpg': 283,\n 'drone/M300/东朝向60度/DJI_0692.jpg': 284,\n 'drone/M300/东朝向60度/DJI_0693.jpg': 285,\n 'drone/M300/东朝向60度/DJI_0694.jpg': 286,\n 'drone/M300/东朝向60度/DJI_0695.jpg': 287,\n 'drone/M300/东朝向60度/DJI_0696.jpg': 288,\n 'drone/M300/东朝向60度/DJI_0697.jpg': 289,\n 'drone/M300/东朝向60度/DJI_0698.jpg': 290,\n 'drone/M300/东朝向60度/DJI_0699.jpg': 291,\n 'drone/M300/东朝向60度/DJI_0700.jpg': 292,\n 'drone/M300/东朝向60度/DJI_0701.jpg': 293,\n 'drone/M300/东朝向60度/DJI_0702.jpg': 294,\n 'drone/M300/东朝向60度/DJI_0703.jpg': 295,\n 'drone/M300/东朝向60度/DJI_0704.jpg': 296,\n 'drone/M300/东朝向60度/DJI_0705.jpg': 297,\n 'drone/M300/东朝向60度/DJI_0706.jpg': 298,\n 'drone/M300/东朝向60度/DJI_0707.jpg': 299,\n 'drone/M300/东朝向60度/DJI_0708.jpg': 300,\n 'drone/M300/东朝向60度/DJI_0709.jpg': 301,\n 'drone/M300/东朝向60度/DJI_0710.jpg': 302,\n 'drone/M300/东朝向60度/DJI_0711.jpg': 303,\n 'drone/M300/东朝向60度/DJI_0712.jpg': 304,\n 'drone/M300/东朝向60度/DJI_0713.jpg': 305,\n 'drone/M300/东朝向60度/DJI_0714.jpg': 306,\n 'drone/M300/东朝向60度/DJI_0715.jpg': 307,\n 'drone/M300/东朝向60度/DJI_0716.jpg': 308,\n 'drone/M300/东朝向60度/DJI_0717.jpg': 309,\n 'drone/M300/东朝向60度/DJI_0718.jpg': 310,\n 'drone/M300/东朝向60度/DJI_0719.jpg': 311,\n 'drone/M300/东朝向60度/DJI_0720.jpg': 312,\n 'drone/M300/东朝向60度/DJI_0721.jpg': 313,\n 'drone/M300/东朝向60度/DJI_0722.jpg': 314,\n 'drone/M300/东朝向60度/DJI_0723.jpg': 315,\n 'drone/M300/东朝向60度/DJI_0724.jpg': 316,\n 'drone/M300/东朝向60度/DJI_0725.jpg': 317,\n 'drone/M300/东朝向60度/DJI_0726.jpg': 318,\n 'drone/M300/东朝向60度/DJI_0727.jpg': 319,\n 'drone/M300/东朝向60度/DJI_0728.jpg': 320,\n 'drone/M300/东朝向60度/DJI_0729.jpg': 321,\n 'drone/M300/东朝向60度/DJI_0730.jpg': 322,\n 'drone/M300/东朝向60度/DJI_0731.jpg': 323,\n 'drone/M300/东朝向60度/DJI_0732.jpg': 324,\n 'drone/M300/东朝向60度/DJI_0733.jpg': 325,\n 'drone/M300/东朝向60度/DJI_0734.jpg': 326,\n 'drone/M300/东朝向60度/DJI_0735.jpg': 327,\n 'drone/M300/东朝向60度/DJI_0736.jpg': 328,\n 'drone/M300/东朝向60度/DJI_0737.jpg': 329,\n 'drone/M300/东朝向60度/DJI_0738.jpg': 330,\n 'drone/M300/东朝向60度/DJI_0739.jpg': 331,\n 'drone/M300/东朝向60度/DJI_0740.jpg': 332,\n 'drone/M300/东朝向60度/DJI_0741.jpg': 333,\n 'drone/M300/东朝向60度/DJI_0742.jpg': 334,\n 'drone/M300/东朝向60度/DJI_0743.jpg': 335,\n 'drone/M300/东朝向60度/DJI_0744.jpg': 336,\n 'drone/M300/东朝向60度/DJI_0745.jpg': 337,\n 'drone/M300/东朝向60度/DJI_0746.jpg': 338,\n 'drone/M300/东朝向60度/DJI_0747.jpg': 339,\n 'drone/M300/东朝向60度/DJI_0748.jpg': 340,\n 'drone/M300/东朝向60度/DJI_0749.jpg': 341,\n 'drone/M300/东朝向60度/DJI_0750.jpg': 342,\n 'drone/M300/东朝向60度/DJI_0751.jpg': 343,\n 'drone/M300/东朝向60度/DJI_0752.jpg': 344,\n 'drone/M300/东朝向60度/DJI_0753.jpg': 345,\n 'drone/M300/东朝向60度/DJI_0754.jpg': 346,\n 'drone/M300/东朝向60度/DJI_0755.jpg': 347,\n 'drone/M300/东朝向60度/DJI_0756.jpg': 348,\n 'drone/M300/东朝向60度/DJI_0757.jpg': 349,\n 'drone/M300/东朝向60度/DJI_0758.jpg': 350,\n 'drone/M300/东朝向60度/DJI_0759.jpg': 351,\n 'drone/M300/东朝向60度/DJI_0760.jpg': 352,\n 'drone/M300/东朝向60度/DJI_0761.jpg': 353,\n 'drone/M300/东朝向60度/DJI_0762.jpg': 354,\n 'drone/M300/东朝向60度/DJI_0763.jpg': 355,\n 'drone/M300/东朝向60度/DJI_0764.jpg': 356,\n 'drone/M300/东朝向60度/DJI_0765.jpg': 357,\n 'drone/M300/东朝向60度/DJI_0766.jpg': 358,\n 'drone/M300/东朝向60度/DJI_0767.jpg': 359,\n 'drone/M300/东朝向60度/DJI_0768.jpg': 360,\n 'drone/M300/东朝向60度/DJI_0769.jpg': 361,\n 'drone/M300/东朝向60度/DJI_0770.jpg': 362,\n 'drone/M300/东朝向60度/DJI_0771.jpg': 363,\n 'drone/M300/东朝向60度/DJI_0772.jpg': 364,\n 'drone/M300/东朝向60度/DJI_0773.jpg': 365,\n 'drone/M300/东朝向60度/DJI_0774.jpg': 366,\n 'drone/M300/东朝向60度/DJI_0775.jpg': 367,\n 'drone/M300/东朝向60度/DJI_0776.jpg': 368,\n 'drone/M300/东朝向60度/DJI_0777.jpg': 369,\n 'drone/M300/东朝向60度/DJI_0778.jpg': 370,\n 'drone/M300/东朝向60度/DJI_0779.jpg': 371,\n 'drone/M300/东朝向60度/DJI_0781.jpg': 372,\n 'drone/M300/东朝向60度/DJI_0782.jpg': 373,\n 'drone/M300/东朝向60度/DJI_0783.jpg': 374,\n 'drone/M300/东朝向60度/DJI_0784.jpg': 375,\n 'drone/M300/东朝向60度/DJI_0785.jpg': 376,\n 'drone/M300/东朝向60度/DJI_0786.jpg': 377,\n 'drone/M300/东朝向60度/DJI_0787.jpg': 378,\n 'drone/M300/东朝向60度/DJI_0788.jpg': 379,\n 'drone/M300/东朝向60度/DJI_0789.jpg': 380,\n 'drone/M300/东朝向60度/DJI_0790.jpg': 381,\n 'drone/M300/东朝向60度/DJI_0791.jpg': 382,\n 'drone/M300/东朝向60度/DJI_0792.jpg': 383,\n 'drone/M300/东朝向60度/DJI_0793.jpg': 384,\n 'drone/M300/东朝向60度/DJI_0794.jpg': 385,\n 'drone/M300/东朝向60度/DJI_0795.jpg': 386,\n 'drone/M300/东朝向60度/DJI_0796.jpg': 387,\n 'drone/M300/东朝向60度/DJI_0797.jpg': 388,\n 'drone/M300/东朝向60度/DJI_0798.jpg': 389,\n 'drone/M300/东朝向60度/DJI_0799.jpg': 390,\n 'drone/M300/东朝向60度/DJI_0800.jpg': 391,\n 'drone/M300/东朝向60度/DJI_0801.jpg': 392,\n 'drone/M300/东朝向60度/DJI_0802.jpg': 393,\n 'drone/M300/东朝向60度/DJI_0803.jpg': 394,\n 'drone/M300/东朝向60度/DJI_0804.jpg': 395,\n 'drone/M300/东朝向60度/DJI_0805.jpg': 396,\n 'drone/M300/东朝向60度/DJI_0806.jpg': 397,\n 'drone/M300/东朝向60度/DJI_0807.jpg': 398,\n 'drone/M300/东朝向60度/DJI_0808.jpg': 399,\n 'drone/M300/东朝向60度/DJI_0809.jpg': 400,\n 'drone/M300/东朝向60度/DJI_0810.jpg': 401,\n 'drone/M300/东朝向60度/DJI_0811.jpg': 402,\n 'drone/M300/东朝向60度/DJI_0812.jpg': 403,\n 'drone/M300/东朝向60度/DJI_0813.jpg': 404,\n 'drone/M300/东朝向60度/DJI_0814.jpg': 405,\n 'drone/M300/东朝向60度/DJI_0815.jpg': 406,\n 'drone/M300/东朝向60度/DJI_0816.jpg': 407,\n 'drone/M300/东朝向60度/DJI_0817.jpg': 408,\n 'drone/M300/东朝向60度/DJI_0818.jpg': 409,\n 'drone/M300/东朝向60度/DJI_0819.jpg': 410,\n 'drone/M300/东朝向60度/DJI_0820.jpg': 411,\n 'drone/M300/东朝向60度/DJI_0821.jpg': 412,\n 'drone/M300/东朝向60度/DJI_0822.jpg': 413,\n 'drone/M300/东朝向60度/DJI_0823.jpg': 414,\n 'drone/M300/东朝向60度/DJI_0824.jpg': 415,\n 'drone/M300/东朝向60度/DJI_0825.jpg': 416,\n 'drone/M300/东朝向60度/DJI_0826.jpg': 417,\n 'drone/M300/东朝向60度/DJI_0827.jpg': 418,\n 'drone/M300/东朝向60度/DJI_0828.jpg': 419,\n 'drone/M300/东朝向60度/DJI_0829.jpg': 420,\n 'drone/M300/东朝向60度/DJI_0830.jpg': 421,\n 'drone/M300/东朝向60度/DJI_0831.jpg': 422,\n 'drone/M300/东朝向60度/DJI_0832.jpg': 423,\n 'drone/M300/东朝向60度/DJI_0833.jpg': 424,\n 'drone/M300/东朝向60度/DJI_0834.jpg': 425,\n 'drone/M300/东朝向60度/DJI_0835.jpg': 426,\n 'drone/M300/东朝向60度/DJI_0836.jpg': 427,\n 'drone/M300/东朝向60度/DJI_0837.jpg': 428,\n 'drone/M300/东朝向60度/DJI_0838.jpg': 429,\n 'drone/M300/东朝向60度/DJI_0839.jpg': 430,\n 'drone/M300/东朝向60度/DJI_0840.jpg': 431,\n 'drone/M300/东朝向60度/DJI_0841.jpg': 432,\n 'drone/M300/东朝向60度/DJI_0842.jpg': 433,\n 'drone/M300/东朝向60度/DJI_0843.jpg': 434,\n 'drone/M300/东朝向60度/DJI_0844.jpg': 435,\n 'drone/M300/东朝向60度/DJI_0845.jpg': 436,\n 'drone/M300/东朝向60度/DJI_0846.jpg': 437,\n 'drone/M300/东朝向60度/DJI_0847.jpg': 438,\n 'drone/M300/东朝向60度/DJI_0848.jpg': 439,\n 'drone/M300/东朝向60度/DJI_0849.jpg': 440,\n 'drone/M300/东朝向60度/DJI_0850.jpg': 441,\n 'drone/M300/东朝向60度/DJI_0851.jpg': 442,\n 'drone/M300/东朝向60度/DJI_0852.jpg': 443,\n 'drone/M300/东朝向60度/DJI_0853.jpg': 444,\n 'drone/M300/东朝向60度/DJI_0854.jpg': 445,\n 'drone/M300/东朝向60度/DJI_0855.jpg': 446,\n 'drone/M300/东朝向60度/DJI_0856.jpg': 447,\n 'drone/M300/东朝向60度/DJI_0857.jpg': 448,\n 'drone/M300/东朝向60度/DJI_0858.jpg': 449,\n 'drone/M300/东朝向60度/DJI_0859.jpg': 450,\n 'drone/M300/东朝向60度/DJI_0860.jpg': 451,\n 'drone/M300/东朝向60度/DJI_0861.jpg': 452,\n 'drone/M300/东朝向60度/DJI_0862.jpg': 453,\n 'drone/M300/东朝向60度/DJI_0863.jpg': 454,\n 'drone/M300/东朝向60度/DJI_0864.jpg': 455,\n 'drone/M300/东朝向60度/DJI_0865.jpg': 456,\n 'drone/M300/东朝向60度/DJI_0866.jpg': 457,\n 'drone/M300/东朝向60度/DJI_0867.jpg': 458,\n 'drone/M300/东朝向60度/DJI_0868.jpg': 459,\n 'drone/M300/东朝向60度/DJI_0869.jpg': 460,\n 'drone/M300/东朝向60度/DJI_0870.jpg': 461,\n 'drone/M300/东朝向60度/DJI_0871.jpg': 462,\n 'drone/M300/东朝向60度/DJI_0872.jpg': 463,\n 'drone/M300/东朝向60度/DJI_0873.jpg': 464,\n 'drone/M300/东朝向60度/DJI_0874.jpg': 465,\n 'drone/M300/东朝向60度/DJI_0875.jpg': 466,\n 'drone/M300/东朝向60度/DJI_0876.jpg': 467,\n 'drone/M300/东朝向60度/DJI_0877.jpg': 468,\n 'drone/M300/东朝向60度/DJI_0878.jpg': 469,\n 'drone/M300/东朝向60度/DJI_0879.jpg': 470,\n 'drone/M300/东朝向60度/DJI_0880.jpg': 471,\n 'drone/M300/东朝向60度/DJI_0881.jpg': 472,\n 'drone/M300/东朝向60度/DJI_0882.jpg': 473,\n 'drone/M300/东朝向60度/DJI_0883.jpg': 474,\n 'drone/M300/东朝向60度/DJI_0884.jpg': 475,\n 'drone/M300/东朝向60度/DJI_0885.jpg': 476,\n 'drone/M300/东朝向60度/DJI_0886.jpg': 477,\n 'drone/M300/东朝向60度/DJI_0887.jpg': 478,\n 'drone/M300/东朝向60度/DJI_0888.jpg': 479,\n 'drone/M300/东朝向60度/DJI_0889.jpg': 480,\n 'drone/M300/东朝向60度/DJI_0890.jpg': 481,\n 'drone/M300/东朝向60度/DJI_0891.jpg': 482,\n 'drone/M300/东朝向60度/DJI_0892.jpg': 483,\n 'drone/M300/东朝向60度/DJI_0893.jpg': 484,\n 'drone/M300/东朝向60度/DJI_0894.jpg': 485,\n 'drone/M300/东朝向60度/DJI_0895.jpg': 486,\n 'drone/M300/东朝向60度/DJI_0896.jpg': 487,\n 'drone/M300/东朝向60度/DJI_0897.jpg': 488,\n 'drone/M300/东朝向60度/DJI_0898.jpg': 489,\n 'drone/M300/东朝向60度/DJI_0899.jpg': 490,\n 'drone/M300/东朝向60度/DJI_0900.jpg': 491,\n 'drone/M300/东朝向60度/DJI_0901.jpg': 492,\n 'drone/M300/东朝向60度/DJI_0902.jpg': 493,\n 'drone/M300/东朝向60度/DJI_0904.jpg': 494,\n 'drone/M300/东朝向60度/DJI_0905.jpg': 495,\n 'drone/M300/东朝向60度/DJI_0906.jpg': 496,\n 'drone/M300/东朝向60度/DJI_0907.jpg': 497,\n 'drone/M300/东朝向60度/DJI_0908.jpg': 498,\n 'drone/M300/东朝向60度/DJI_0909.jpg': 499,\n 'drone/M300/东朝向60度/DJI_0910.jpg': 500,\n 'drone/M300/东朝向60度/DJI_0911.jpg': 501,\n 'drone/M300/东朝向60度/DJI_0912.jpg': 502,\n 'drone/M300/东朝向60度/DJI_0913.jpg': 503,\n 'drone/M300/东朝向60度/DJI_0914.jpg': 504,\n 'drone/M300/东朝向60度/DJI_0915.jpg': 505,\n 'drone/M300/东朝向60度/DJI_0916.jpg': 506,\n 'drone/M300/东朝向60度/DJI_0917.jpg': 507,\n 'drone/M300/北朝向60度（重拍）/DJI_0087.jpg': 508,\n 'drone/M300/北朝向60度（重拍）/DJI_0088.jpg': 509,\n 'drone/M300/北朝向60度（重拍）/DJI_0089.jpg': 510,\n 'drone/M300/北朝向60度（重拍）/DJI_0090.jpg': 511,\n 'drone/M300/北朝向60度（重拍）/DJI_0091.jpg': 512,\n 'drone/M300/北朝向60度（重拍）/DJI_0092.jpg': 513,\n 'drone/M300/北朝向60度（重拍）/DJI_0093.jpg': 514,\n 'drone/M300/北朝向60度（重拍）/DJI_0094.jpg': 515,\n 'drone/M300/北朝向60度（重拍）/DJI_0095.jpg': 516,\n 'drone/M300/北朝向60度（重拍）/DJI_0096.jpg': 517,\n 'drone/M300/北朝向60度（重拍）/DJI_0097.jpg': 518,\n 'drone/M300/北朝向60度（重拍）/DJI_0098.jpg': 519,\n 'drone/M300/北朝向60度（重拍）/DJI_0099.jpg': 520,\n 'drone/M300/北朝向60度（重拍）/DJI_0100.jpg': 521,\n 'drone/M300/北朝向60度（重拍）/DJI_0101.jpg': 522,\n 'drone/M300/北朝向60度（重拍）/DJI_0102.jpg': 523,\n 'drone/M300/北朝向60度（重拍）/DJI_0103.jpg': 524,\n 'drone/M300/北朝向60度（重拍）/DJI_0104.jpg': 525,\n 'drone/M300/北朝向60度（重拍）/DJI_0105.jpg': 526,\n 'drone/M300/北朝向60度（重拍）/DJI_0106.jpg': 527,\n 'drone/M300/北朝向60度（重拍）/DJI_0107.jpg': 528,\n 'drone/M300/北朝向60度（重拍）/DJI_0108.jpg': 529,\n 'drone/M300/北朝向60度（重拍）/DJI_0109.jpg': 530,\n 'drone/M300/北朝向60度（重拍）/DJI_0110.jpg': 531,\n 'drone/M300/北朝向60度（重拍）/DJI_0111.jpg': 532,\n 'drone/M300/北朝向60度（重拍）/DJI_0112.jpg': 533,\n 'drone/M300/北朝向60度（重拍）/DJI_0113.jpg': 534,\n 'drone/M300/北朝向60度（重拍）/DJI_0114.jpg': 535,\n 'drone/M300/北朝向60度（重拍）/DJI_0115.jpg': 536,\n 'drone/M300/北朝向60度（重拍）/DJI_0116.jpg': 537,\n 'drone/M300/北朝向60度（重拍）/DJI_0117.jpg': 538,\n 'drone/M300/北朝向60度（重拍）/DJI_0118.jpg': 539,\n 'drone/M300/北朝向60度（重拍）/DJI_0119.jpg': 540,\n 'drone/M300/北朝向60度（重拍）/DJI_0120.jpg': 541,\n 'drone/M300/北朝向60度（重拍）/DJI_0121.jpg': 542,\n 'drone/M300/北朝向60度（重拍）/DJI_0122.jpg': 543,\n 'drone/M300/北朝向60度（重拍）/DJI_0123.jpg': 544,\n 'drone/M300/北朝向60度（重拍）/DJI_0124.jpg': 545,\n 'drone/M300/北朝向60度（重拍）/DJI_0125.jpg': 546,\n 'drone/M300/北朝向60度（重拍）/DJI_0126.jpg': 547,\n 'drone/M300/北朝向60度（重拍）/DJI_0127.jpg': 548,\n 'drone/M300/北朝向60度（重拍）/DJI_0128.jpg': 549,\n 'drone/M300/北朝向60度（重拍）/DJI_0129.jpg': 550,\n 'drone/M300/北朝向60度（重拍）/DJI_0130.jpg': 551,\n 'drone/M300/北朝向60度（重拍）/DJI_0131.jpg': 552,\n 'drone/M300/北朝向60度（重拍）/DJI_0132.jpg': 553,\n 'drone/M300/北朝向60度（重拍）/DJI_0133.jpg': 554,\n 'drone/M300/北朝向60度（重拍）/DJI_0134.jpg': 555,\n 'drone/M300/北朝向60度（重拍）/DJI_0135.jpg': 556,\n 'drone/M300/北朝向60度（重拍）/DJI_0136.jpg': 557,\n 'drone/M300/北朝向60度（重拍）/DJI_0137.jpg': 558,\n 'drone/M300/北朝向60度（重拍）/DJI_0138.jpg': 559,\n 'drone/M300/北朝向60度（重拍）/DJI_0139.jpg': 560,\n 'drone/M300/北朝向60度（重拍）/DJI_0140.jpg': 561,\n 'drone/M300/北朝向60度（重拍）/DJI_0141.jpg': 562,\n 'drone/M300/北朝向60度（重拍）/DJI_0142.jpg': 563,\n 'drone/M300/北朝向60度（重拍）/DJI_0143.jpg': 564,\n 'drone/M300/北朝向60度（重拍）/DJI_0144.jpg': 565,\n 'drone/M300/北朝向60度（重拍）/DJI_0145.jpg': 566,\n 'drone/M300/北朝向60度（重拍）/DJI_0146.jpg': 567,\n 'drone/M300/北朝向60度（重拍）/DJI_0147.jpg': 568,\n 'drone/M300/北朝向60度（重拍）/DJI_0148.jpg': 569,\n 'drone/M300/北朝向60度（重拍）/DJI_0149.jpg': 570,\n 'drone/M300/北朝向60度（重拍）/DJI_0150.jpg': 571,\n 'drone/M300/北朝向60度（重拍）/DJI_0151.jpg': 572,\n 'drone/M300/北朝向60度（重拍）/DJI_0152.jpg': 573,\n 'drone/M300/北朝向60度（重拍）/DJI_0153.jpg': 574,\n 'drone/M300/北朝向60度（重拍）/DJI_0154.jpg': 575,\n 'drone/M300/北朝向60度（重拍）/DJI_0155.jpg': 576,\n 'drone/M300/北朝向60度（重拍）/DJI_0156.jpg': 577,\n 'drone/M300/北朝向60度（重拍）/DJI_0157.jpg': 578,\n 'drone/M300/北朝向60度（重拍）/DJI_0158.jpg': 579,\n 'drone/M300/北朝向60度（重拍）/DJI_0159.jpg': 580,\n 'drone/M300/北朝向60度（重拍）/DJI_0160.jpg': 581,\n 'drone/M300/北朝向60度（重拍）/DJI_0161.jpg': 582,\n 'drone/M300/北朝向60度（重拍）/DJI_0162.jpg': 583,\n 'drone/M300/北朝向60度（重拍）/DJI_0163.jpg': 584,\n 'drone/M300/北朝向60度（重拍）/DJI_0164.jpg': 585,\n 'drone/M300/北朝向60度（重拍）/DJI_0165.jpg': 586,\n 'drone/M300/北朝向60度（重拍）/DJI_0166.jpg': 587,\n 'drone/M300/北朝向60度（重拍）/DJI_0167.jpg': 588,\n 'drone/M300/北朝向60度（重拍）/DJI_0168.jpg': 589,\n 'drone/M300/北朝向60度（重拍）/DJI_0169.jpg': 590,\n 'drone/M300/北朝向60度（重拍）/DJI_0170.jpg': 591,\n 'drone/M300/北朝向60度（重拍）/DJI_0171.jpg': 592,\n 'drone/M300/北朝向60度（重拍）/DJI_0172.jpg': 593,\n 'drone/M300/北朝向60度（重拍）/DJI_0173.jpg': 594,\n 'drone/M300/北朝向60度（重拍）/DJI_0174.jpg': 595,\n 'drone/M300/北朝向60度（重拍）/DJI_0175.jpg': 596,\n 'drone/M300/北朝向60度（重拍）/DJI_0176.jpg': 597,\n 'drone/M300/北朝向60度（重拍）/DJI_0177.jpg': 598,\n 'drone/M300/北朝向60度（重拍）/DJI_0178.jpg': 599,\n 'drone/M300/北朝向60度（重拍）/DJI_0179.jpg': 600,\n 'drone/M300/北朝向60度（重拍）/DJI_0180.jpg': 601,\n 'drone/M300/北朝向60度（重拍）/DJI_0181.jpg': 602,\n 'drone/M300/北朝向60度（重拍）/DJI_0182.jpg': 603,\n 'drone/M300/北朝向60度（重拍）/DJI_0183.jpg': 604,\n 'drone/M300/北朝向60度（重拍）/DJI_0184.jpg': 605,\n 'drone/M300/北朝向60度（重拍）/DJI_0185.jpg': 606,\n 'drone/M300/北朝向60度（重拍）/DJI_0186.jpg': 607,\n 'drone/M300/北朝向60度（重拍）/DJI_0187.jpg': 608,\n 'drone/M300/北朝向60度（重拍）/DJI_0188.jpg': 609,\n 'drone/M300/北朝向60度（重拍）/DJI_0189.jpg': 610,\n 'drone/M300/北朝向60度（重拍）/DJI_0190.jpg': 611,\n 'drone/M300/北朝向60度（重拍）/DJI_0191.jpg': 612,\n 'drone/M300/北朝向60度（重拍）/DJI_0192.jpg': 613,\n 'drone/M300/北朝向60度（重拍）/DJI_0193.jpg': 614,\n 'drone/M300/北朝向60度（重拍）/DJI_0194.jpg': 615,\n 'drone/M300/北朝向60度（重拍）/DJI_0195.jpg': 616,\n 'drone/M300/北朝向60度（重拍）/DJI_0196.jpg': 617,\n 'drone/M300/北朝向60度（重拍）/DJI_0197.jpg': 618,\n 'drone/M300/北朝向60度（重拍）/DJI_0198.jpg': 619,\n 'drone/M300/北朝向60度（重拍）/DJI_0199.jpg': 620,\n 'drone/M300/北朝向60度（重拍）/DJI_0200.jpg': 621,\n 'drone/M300/北朝向60度（重拍）/DJI_0201.jpg': 622,\n 'drone/M300/北朝向60度（重拍）/DJI_0202.jpg': 623,\n 'drone/M300/北朝向60度（重拍）/DJI_0203.jpg': 624,\n 'drone/M300/北朝向60度（重拍）/DJI_0204.jpg': 625,\n 'drone/M300/北朝向60度（重拍）/DJI_0205.jpg': 626,\n 'drone/M300/北朝向60度（重拍）/DJI_0206.jpg': 627,\n 'drone/M300/北朝向60度（重拍）/DJI_0207.jpg': 628,\n 'drone/M300/北朝向60度（重拍）/DJI_0208.jpg': 629,\n 'drone/M300/北朝向60度（重拍）/DJI_0209.jpg': 630,\n 'drone/M300/北朝向60度（重拍）/DJI_0210.jpg': 631,\n 'drone/M300/北朝向60度（重拍）/DJI_0211.jpg': 632,\n 'drone/M300/北朝向60度（重拍）/DJI_0212.jpg': 633,\n 'drone/M300/北朝向60度（重拍）/DJI_0213.jpg': 634,\n 'drone/M300/北朝向60度（重拍）/DJI_0214.jpg': 635,\n 'drone/M300/北朝向60度（重拍）/DJI_0215.jpg': 636,\n 'drone/M300/北朝向60度（重拍）/DJI_0216.jpg': 637,\n 'drone/M300/北朝向60度（重拍）/DJI_0217.jpg': 638,\n 'drone/M300/北朝向60度（重拍）/DJI_0218.jpg': 639,\n 'drone/M300/北朝向60度（重拍）/DJI_0219.jpg': 640,\n 'drone/M300/北朝向60度（重拍）/DJI_0220.jpg': 641,\n 'drone/M300/北朝向60度（重拍）/DJI_0221.jpg': 642,\n 'drone/M300/北朝向60度（重拍）/DJI_0222.jpg': 643,\n 'drone/M300/北朝向60度（重拍）/DJI_0223.jpg': 644,\n 'drone/M300/北朝向60度（重拍）/DJI_0224.jpg': 645,\n 'drone/M300/北朝向60度（重拍）/DJI_0225.jpg': 646,\n 'drone/M300/北朝向60度（重拍）/DJI_0226.jpg': 647,\n 'drone/M300/北朝向60度（重拍）/DJI_0227.jpg': 648,\n 'drone/M300/北朝向60度（重拍）/DJI_0228.jpg': 649,\n 'drone/M300/北朝向60度（重拍）/DJI_0229.jpg': 650,\n 'drone/M300/北朝向60度（重拍）/DJI_0230.jpg': 651,\n 'drone/M300/北朝向60度（重拍）/DJI_0231.jpg': 652,\n 'drone/M300/北朝向60度（重拍）/DJI_0232.jpg': 653,\n 'drone/M300/北朝向60度（重拍）/DJI_0233.jpg': 654,\n 'drone/M300/北朝向60度（重拍）/DJI_0234.jpg': 655,\n 'drone/M300/北朝向60度（重拍）/DJI_0235.jpg': 656,\n 'drone/M300/北朝向60度（重拍）/DJI_0236.jpg': 657,\n 'drone/M300/北朝向60度（重拍）/DJI_0237.jpg': 658,\n 'drone/M300/北朝向60度（重拍）/DJI_0238.jpg': 659,\n 'drone/M300/北朝向60度（重拍）/DJI_0239.jpg': 660,\n 'drone/M300/北朝向60度（重拍）/DJI_0240.jpg': 661,\n 'drone/M300/北朝向60度（重拍）/DJI_0241.jpg': 662,\n 'drone/M300/北朝向60度（重拍）/DJI_0242.jpg': 663,\n 'drone/M300/北朝向60度（重拍）/DJI_0243.jpg': 664,\n 'drone/M300/北朝向60度（重拍）/DJI_0244.jpg': 665,\n 'drone/M300/北朝向60度（重拍）/DJI_0245.jpg': 666,\n 'drone/M300/北朝向60度（重拍）/DJI_0246.jpg': 667,\n 'drone/M300/北朝向60度（重拍）/DJI_0247.jpg': 668,\n 'drone/M300/北朝向60度（重拍）/DJI_0248.jpg': 669,\n 'drone/M300/北朝向60度（重拍）/DJI_0249.jpg': 670,\n 'drone/M300/北朝向60度（重拍）/DJI_0250.jpg': 671,\n 'drone/M300/北朝向60度（重拍）/DJI_0251.jpg': 672,\n 'drone/M300/北朝向60度（重拍）/DJI_0252.jpg': 673,\n 'drone/M300/北朝向60度（重拍）/DJI_0253.jpg': 674,\n 'drone/M300/北朝向60度（重拍）/DJI_0254.jpg': 675,\n 'drone/M300/北朝向60度（重拍）/DJI_0255.jpg': 676,\n 'drone/M300/北朝向60度（重拍）/DJI_0256.jpg': 677,\n 'drone/M300/北朝向60度（重拍）/DJI_0257.jpg': 678,\n 'drone/M300/北朝向60度（重拍）/DJI_0258.jpg': 679,\n 'drone/M300/北朝向60度（重拍）/DJI_0259.jpg': 680,\n 'drone/M300/北朝向60度（重拍）/DJI_0260.jpg': 681,\n 'drone/M300/北朝向60度（重拍）/DJI_0261.jpg': 682,\n 'drone/M300/北朝向60度（重拍）/DJI_0262.jpg': 683,\n 'drone/M300/北朝向60度（重拍）/DJI_0263.jpg': 684,\n 'drone/M300/北朝向60度（重拍）/DJI_0264.jpg': 685,\n 'drone/M300/北朝向60度（重拍）/DJI_0265.jpg': 686,\n 'drone/M300/北朝向60度（重拍）/DJI_0266.jpg': 687,\n 'drone/M300/北朝向60度（重拍）/DJI_0267.jpg': 688,\n 'drone/M300/北朝向60度（重拍）/DJI_0268.jpg': 689,\n 'drone/M300/北朝向60度（重拍）/DJI_0269.jpg': 690,\n 'drone/M300/北朝向60度（重拍）/DJI_0270.jpg': 691,\n 'drone/M300/北朝向60度（重拍）/DJI_0271.jpg': 692,\n 'drone/M300/北朝向60度（重拍）/DJI_0272.jpg': 693,\n 'drone/M300/北朝向60度（重拍）/DJI_0273.jpg': 694,\n 'drone/M300/北朝向60度（重拍）/DJI_0274.jpg': 695,\n 'drone/M300/北朝向60度（重拍）/DJI_0275.jpg': 696,\n 'drone/M300/北朝向60度（重拍）/DJI_0276.jpg': 697,\n 'drone/M300/北朝向60度（重拍）/DJI_0277.jpg': 698,\n 'drone/M300/北朝向60度（重拍）/DJI_0278.jpg': 699,\n 'drone/M300/北朝向60度（重拍）/DJI_0279.jpg': 700,\n 'drone/M300/北朝向60度（重拍）/DJI_0280.jpg': 701,\n 'drone/M300/北朝向60度（重拍）/DJI_0281.jpg': 702,\n 'drone/M300/北朝向60度（重拍）/DJI_0282.jpg': 703,\n 'drone/M300/北朝向60度（重拍）/DJI_0283.jpg': 704,\n 'drone/M300/北朝向60度（重拍）/DJI_0284.jpg': 705,\n 'drone/M300/北朝向60度（重拍）/DJI_0285.jpg': 706,\n 'drone/M300/北朝向60度（重拍）/DJI_0286.jpg': 707,\n 'drone/M300/北朝向60度（重拍）/DJI_0287.jpg': 708,\n 'drone/M300/北朝向60度（重拍）/DJI_0288.jpg': 709,\n 'drone/M300/北朝向60度（重拍）/DJI_0289.jpg': 710,\n 'drone/M300/北朝向60度（重拍）/DJI_0290.jpg': 711,\n 'drone/M300/北朝向60度（重拍）/DJI_0291.jpg': 712,\n 'drone/M300/北朝向60度（重拍）/DJI_0292.jpg': 713,\n 'drone/M300/北朝向60度（重拍）/DJI_0293.jpg': 714,\n 'drone/M300/北朝向60度（重拍）/DJI_0294.jpg': 715,\n 'drone/M300/北朝向60度（重拍）/DJI_0295.jpg': 716,\n 'drone/M300/北朝向60度（重拍）/DJI_0296.jpg': 717,\n 'drone/M300/北朝向60度（重拍）/DJI_0297.jpg': 718,\n 'drone/M300/北朝向60度（重拍）/DJI_0298.jpg': 719,\n 'drone/M300/北朝向60度（重拍）/DJI_0299.jpg': 720,\n 'drone/M300/北朝向60度（重拍）/DJI_0300.jpg': 721,\n 'drone/M300/北朝向60度（重拍）/DJI_0301.jpg': 722,\n 'drone/M300/北朝向60度（重拍）/DJI_0302.jpg': 723,\n 'drone/M300/北朝向60度（重拍）/DJI_0303.jpg': 724,\n 'drone/M300/北朝向60度（重拍）/DJI_0304.jpg': 725,\n 'drone/M300/北朝向60度（重拍）/DJI_0305.jpg': 726,\n 'drone/M300/北朝向60度（重拍）/DJI_0306.jpg': 727,\n 'drone/M300/北朝向60度（重拍）/DJI_0307.jpg': 728,\n 'drone/M300/北朝向60度（重拍）/DJI_0308.jpg': 729,\n 'drone/M300/北朝向60度（重拍）/DJI_0309.jpg': 730,\n 'drone/M300/北朝向60度（重拍）/DJI_0310.jpg': 731,\n 'drone/M300/北朝向60度（重拍）/DJI_0311.jpg': 732,\n 'drone/M300/北朝向60度（重拍）/DJI_0312.jpg': 733,\n 'drone/M300/北朝向60度（重拍）/DJI_0313.jpg': 734,\n 'drone/M300/北朝向60度（重拍）/DJI_0314.jpg': 735,\n 'drone/M300/北朝向60度（重拍）/DJI_0315.jpg': 736,\n 'drone/M300/北朝向60度（重拍）/DJI_0316.jpg': 737,\n 'drone/M300/北朝向60度（重拍）/DJI_0318.jpg': 738,\n 'drone/M300/北朝向60度（重拍）/DJI_0319.jpg': 739,\n 'drone/M300/北朝向60度（重拍）/DJI_0320.jpg': 740,\n 'drone/M300/北朝向60度（重拍）/DJI_0321.jpg': 741,\n 'drone/M300/北朝向60度（重拍）/DJI_0322.jpg': 742,\n 'drone/M300/北朝向60度（重拍）/DJI_0323.jpg': 743,\n 'drone/M300/北朝向60度（重拍）/DJI_0324.jpg': 744,\n 'drone/M300/北朝向60度（重拍）/DJI_0325.jpg': 745,\n 'drone/M300/北朝向60度（重拍）/DJI_0326.jpg': 746,\n 'drone/M300/北朝向60度（重拍）/DJI_0327.jpg': 747,\n 'drone/M300/北朝向60度（重拍）/DJI_0328.jpg': 748,\n 'drone/M300/北朝向60度（重拍）/DJI_0329.jpg': 749,\n 'drone/M300/北朝向60度（重拍）/DJI_0330.jpg': 750,\n 'drone/M300/北朝向60度（重拍）/DJI_0331.jpg': 751,\n 'drone/M300/北朝向60度（重拍）/DJI_0332.jpg': 752,\n 'drone/M300/北朝向60度（重拍）/DJI_0333.jpg': 753,\n 'drone/M300/北朝向60度（重拍）/DJI_0334.jpg': 754,\n 'drone/M300/北朝向60度（重拍）/DJI_0335.jpg': 755,\n 'drone/M300/北朝向60度（重拍）/DJI_0336.jpg': 756,\n 'drone/M300/北朝向60度（重拍）/DJI_0337.jpg': 757,\n 'drone/M300/北朝向60度（重拍）/DJI_0338.jpg': 758,\n 'drone/M300/北朝向60度（重拍）/DJI_0339.jpg': 759,\n 'drone/M300/北朝向60度（重拍）/DJI_0340.jpg': 760,\n 'drone/M300/北朝向60度（重拍）/DJI_0341.jpg': 761,\n 'drone/M300/北朝向60度（重拍）/DJI_0342.jpg': 762,\n 'drone/M300/北朝向60度（重拍）/DJI_0343.jpg': 763,\n 'drone/M300/北朝向60度（重拍）/DJI_0344.jpg': 764,\n 'drone/M300/北朝向60度（重拍）/DJI_0345.jpg': 765,\n 'drone/M300/北朝向60度（重拍）/DJI_0346.jpg': 766,\n 'drone/M300/北朝向60度（重拍）/DJI_0347.jpg': 767,\n 'drone/M300/北朝向60度（重拍）/DJI_0348.jpg': 768,\n 'drone/M300/北朝向60度（重拍）/DJI_0349.jpg': 769,\n 'drone/M300/北朝向60度（重拍）/DJI_0350.jpg': 770,\n 'drone/M300/北朝向60度（重拍）/DJI_0351.jpg': 771,\n 'drone/M300/北朝向60度（重拍）/DJI_0352.jpg': 772,\n 'drone/M300/北朝向60度（重拍）/DJI_0353.jpg': 773,\n 'drone/M300/北朝向60度（重拍）/DJI_0354.jpg': 774,\n 'drone/M300/北朝向60度（重拍）/DJI_0355.jpg': 775,\n 'drone/M300/北朝向60度（重拍）/DJI_0356.jpg': 776,\n 'drone/M300/北朝向60度（重拍）/DJI_0357.jpg': 777,\n 'drone/M300/北朝向60度（重拍）/DJI_0358.jpg': 778,\n 'drone/M300/北朝向60度（重拍）/DJI_0359.jpg': 779,\n 'drone/M300/北朝向60度（重拍）/DJI_0360.jpg': 780,\n 'drone/M300/北朝向60度（重拍）/DJI_0361.jpg': 781,\n 'drone/M300/北朝向60度（重拍）/DJI_0362.jpg': 782,\n 'drone/M300/北朝向60度（重拍）/DJI_0363.jpg': 783,\n 'drone/M300/北朝向60度（重拍）/DJI_0364.jpg': 784,\n 'drone/M300/北朝向60度（重拍）/DJI_0365.jpg': 785,\n 'drone/M300/北朝向60度（重拍）/DJI_0366.jpg': 786,\n 'drone/M300/北朝向60度（重拍）/DJI_0367.jpg': 787,\n 'drone/M300/北朝向60度（重拍）/DJI_0368.jpg': 788,\n 'drone/M300/北朝向60度（重拍）/DJI_0369.jpg': 789,\n 'drone/M300/北朝向60度（重拍）/DJI_0370.jpg': 790,\n 'drone/M300/北朝向60度（重拍）/DJI_0371.jpg': 791,\n 'drone/M300/北朝向60度（重拍）/DJI_0372.jpg': 792,\n 'drone/M300/北朝向60度（重拍）/DJI_0373.jpg': 793,\n 'drone/M300/北朝向60度（重拍）/DJI_0374.jpg': 794,\n 'drone/M300/北朝向60度（重拍）/DJI_0375.jpg': 795,\n 'drone/M300/北朝向60度（重拍）/DJI_0376.jpg': 796,\n 'drone/M300/北朝向60度（重拍）/DJI_0377.jpg': 797,\n 'drone/M300/北朝向60度（重拍）/DJI_0378.jpg': 798,\n 'drone/M300/北朝向60度（重拍）/DJI_0379.jpg': 799,\n 'drone/M300/北朝向60度（重拍）/DJI_0380.jpg': 800,\n 'drone/M300/北朝向60度（重拍）/DJI_0381.jpg': 801,\n 'drone/M300/北朝向60度（重拍）/DJI_0382.jpg': 802,\n 'drone/M300/北朝向60度（重拍）/DJI_0383.jpg': 803,\n 'drone/M300/北朝向60度（重拍）/DJI_0384.jpg': 804,\n 'drone/M300/北朝向60度（重拍）/DJI_0385.jpg': 805,\n 'drone/M300/北朝向60度（重拍）/DJI_0386.jpg': 806,\n 'drone/M300/北朝向60度（重拍）/DJI_0387.jpg': 807,\n 'drone/M300/北朝向60度（重拍）/DJI_0388.jpg': 808,\n 'drone/M300/北朝向60度（重拍）/DJI_0389.jpg': 809,\n 'drone/M300/北朝向60度（重拍）/DJI_0390.jpg': 810,\n 'drone/M300/北朝向60度（重拍）/DJI_0391.jpg': 811,\n 'drone/M300/北朝向60度（重拍）/DJI_0392.jpg': 812,\n 'drone/M300/北朝向60度（重拍）/DJI_0393.jpg': 813,\n 'drone/M300/北朝向60度（重拍）/DJI_0394.jpg': 814,\n 'drone/M300/北朝向60度（重拍）/DJI_0395.jpg': 815,\n 'drone/M300/北朝向60度（重拍）/DJI_0396.jpg': 816,\n 'drone/M300/北朝向60度（重拍）/DJI_0397.jpg': 817,\n 'drone/M300/北朝向60度（重拍）/DJI_0398.jpg': 818,\n 'drone/M300/北朝向60度（重拍）/DJI_0399.jpg': 819,\n 'drone/M300/北朝向60度（重拍）/DJI_0400.jpg': 820,\n 'drone/M300/北朝向60度（重拍）/DJI_0401.jpg': 821,\n 'drone/M300/北朝向60度（重拍）/DJI_0402.jpg': 822,\n 'drone/M300/北朝向60度（重拍）/DJI_0403.jpg': 823,\n 'drone/M300/北朝向60度（重拍）/DJI_0404.jpg': 824,\n 'drone/M300/北朝向60度（重拍）/DJI_0405.jpg': 825,\n 'drone/M300/北朝向60度（重拍）/DJI_0406.jpg': 826,\n 'drone/M300/北朝向60度（重拍）/DJI_0407.jpg': 827,\n 'drone/M300/北朝向60度（重拍）/DJI_0408.jpg': 828,\n 'drone/M300/北朝向60度（重拍）/DJI_0410.jpg': 829,\n 'drone/M300/北朝向60度（重拍）/DJI_0411.jpg': 830,\n 'drone/M300/北朝向60度（重拍）/DJI_0412.jpg': 831,\n 'drone/M300/北朝向60度（重拍）/DJI_0413.jpg': 832,\n 'drone/M300/北朝向60度（重拍）/DJI_0414.jpg': 833,\n 'drone/M300/北朝向60度（重拍）/DJI_0415.jpg': 834,\n 'drone/M300/北朝向60度（重拍）/DJI_0416.jpg': 835,\n 'drone/M300/北朝向60度（重拍）/DJI_0417.jpg': 836,\n 'drone/M300/北朝向60度（重拍）/DJI_0418.jpg': 837,\n 'drone/M300/北朝向60度（重拍）/DJI_0419.jpg': 838,\n 'drone/M300/北朝向60度（重拍）/DJI_0420.jpg': 839,\n 'drone/M300/北朝向60度（重拍）/DJI_0421.jpg': 840,\n 'drone/M300/北朝向60度（重拍）/DJI_0422.jpg': 841,\n 'drone/M300/北朝向60度（重拍）/DJI_0423.jpg': 842,\n 'drone/M300/北朝向60度（重拍）/DJI_0424.jpg': 843,\n 'drone/M300/北朝向60度（重拍）/DJI_0425.jpg': 844,\n 'drone/M300/北朝向60度（重拍）/DJI_0426.jpg': 845,\n 'drone/M300/北朝向60度（重拍）/DJI_0427.jpg': 846,\n 'drone/M300/北朝向60度（重拍）/DJI_0428.jpg': 847,\n 'drone/M300/北朝向60度（重拍）/DJI_0429.jpg': 848,\n 'drone/M300/北朝向60度（重拍）/DJI_0430.jpg': 849,\n 'drone/M300/北朝向60度（重拍）/DJI_0431.jpg': 850,\n 'drone/M300/北朝向60度（重拍）/DJI_0432.jpg': 851,\n 'drone/M300/北朝向60度（重拍）/DJI_0433.jpg': 852,\n 'drone/M300/北朝向60度（重拍）/DJI_0434.jpg': 853,\n 'drone/M300/北朝向60度（重拍）/DJI_0435.jpg': 854,\n 'drone/M300/北朝向60度（重拍）/DJI_0436.jpg': 855,\n 'drone/M300/北朝向60度（重拍）/DJI_0437.jpg': 856,\n 'drone/M300/北朝向60度（重拍）/DJI_0438.jpg': 857,\n 'drone/M300/北朝向60度（重拍）/DJI_0439.jpg': 858,\n 'drone/M300/北朝向60度（重拍）/DJI_0441.jpg': 859,\n 'drone/M300/北朝向60度（重拍）/DJI_0442.jpg': 860,\n 'drone/M300/北朝向60度（重拍）/DJI_0443.jpg': 861,\n 'drone/M300/北朝向60度（重拍）/DJI_0444.jpg': 862,\n 'drone/M300/北朝向60度（重拍）/DJI_0445.jpg': 863,\n 'drone/M300/北朝向60度（重拍）/DJI_0446.jpg': 864,\n 'drone/M300/北朝向60度（重拍）/DJI_0447.jpg': 865,\n 'drone/M300/北朝向60度（重拍）/DJI_0448.jpg': 866,\n 'drone/M300/北朝向60度（重拍）/DJI_0449.jpg': 867,\n 'drone/M300/北朝向60度（重拍）/DJI_0450.jpg': 868,\n 'drone/M300/北朝向60度（重拍）/DJI_0451.jpg': 869,\n 'drone/M300/北朝向60度（重拍）/DJI_0452.jpg': 870,\n 'drone/M300/北朝向60度（重拍）/DJI_0453.jpg': 871,\n 'drone/M300/北朝向60度（重拍）/DJI_0454.jpg': 872,\n 'drone/M300/北朝向60度（重拍）/DJI_0455.jpg': 873,\n 'drone/M300/北朝向60度（重拍）/DJI_0456.jpg': 874,\n 'drone/M300/北朝向60度（重拍）/DJI_0457.jpg': 875,\n 'drone/M300/北朝向60度（重拍）/DJI_0458.jpg': 876,\n 'drone/M300/北朝向60度（重拍）/DJI_0459.jpg': 877,\n 'drone/M300/北朝向60度（重拍）/DJI_0460.jpg': 878,\n 'drone/M300/北朝向60度（重拍）/DJI_0461.jpg': 879,\n 'drone/M300/北朝向60度（重拍）/DJI_0462.jpg': 880,\n 'drone/M300/北朝向60度（重拍）/DJI_0463.jpg': 881,\n 'drone/M300/北朝向60度（重拍）/DJI_0464.jpg': 882,\n 'drone/M300/北朝向60度（重拍）/DJI_0465.jpg': 883,\n 'drone/M300/北朝向60度（重拍）/DJI_0466.jpg': 884,\n 'drone/M300/北朝向60度（重拍）/DJI_0467.jpg': 885,\n 'drone/M300/北朝向60度（重拍）/DJI_0468.jpg': 886,\n 'drone/M300/北朝向60度（重拍）/DJI_0469.jpg': 887,\n 'drone/M300/北朝向60度（重拍）/DJI_0470.jpg': 888,\n 'drone/M300/北朝向60度（重拍）/DJI_0471.jpg': 889,\n 'drone/M300/北朝向60度（重拍）/DJI_0472.jpg': 890,\n 'drone/M300/北朝向60度（重拍）/DJI_0473.jpg': 891,\n 'drone/M300/北朝向60度（重拍）/DJI_0474.jpg': 892,\n 'drone/M300/北朝向60度（重拍）/DJI_0475.jpg': 893,\n 'drone/M300/北朝向60度（重拍）/DJI_0476.jpg': 894,\n 'drone/M300/北朝向60度（重拍）/DJI_0480.jpg': 895,\n 'drone/M300/北朝向60度（重拍）/DJI_0481.jpg': 896,\n 'drone/M300/北朝向60度（重拍）/DJI_0482.jpg': 897,\n 'drone/M300/北朝向60度（重拍）/DJI_0483.jpg': 898,\n 'drone/M300/北朝向60度（重拍）/DJI_0484.jpg': 899,\n 'drone/M300/北朝向60度（重拍）/DJI_0485.jpg': 900,\n 'drone/M300/北朝向60度（重拍）/DJI_0486.jpg': 901,\n 'drone/M300/北朝向60度（重拍）/DJI_0487.jpg': 902,\n 'drone/M300/北朝向60度（重拍）/DJI_0488.jpg': 903,\n 'drone/M300/北朝向60度（重拍）/DJI_0490.jpg': 904,\n 'drone/M300/北朝向60度（重拍）/DJI_0491.jpg': 905,\n 'drone/M300/北朝向60度（重拍）/DJI_0492.jpg': 906,\n 'drone/M300/北朝向60度（重拍）/DJI_0493.jpg': 907,\n 'drone/M300/北朝向60度（重拍）/DJI_0494.jpg': 908,\n 'drone/M300/北朝向60度（重拍）/DJI_0495.jpg': 909,\n 'drone/M300/北朝向60度（重拍）/DJI_0496.jpg': 910,\n 'drone/M300/北朝向60度（重拍）/DJI_0497.jpg': 911,\n 'drone/M300/北朝向60度（重拍）/DJI_0498.jpg': 912,\n 'drone/M300/北朝向60度（重拍）/DJI_0499.jpg': 913,\n 'drone/M300/北朝向60度（重拍）/DJI_0500.jpg': 914,\n 'drone/M300/北朝向60度（重拍）/DJI_0501.jpg': 915,\n 'drone/M300/北朝向60度（重拍）/DJI_0502.jpg': 916,\n 'drone/M300/北朝向60度（重拍）/DJI_0503.jpg': 917,\n 'drone/M300/北朝向60度（重拍）/DJI_0504.jpg': 918,\n 'drone/M300/北朝向60度（重拍）/DJI_0505.jpg': 919,\n 'drone/M300/北朝向60度（重拍）/DJI_0506.jpg': 920,\n 'drone/M300/北朝向60度（重拍）/DJI_0507.jpg': 921,\n 'drone/M300/北朝向60度（重拍）/DJI_0508.jpg': 922,\n 'drone/M300/北朝向60度（重拍）/DJI_0509.jpg': 923,\n 'drone/M300/北朝向60度（重拍）/DJI_0510.jpg': 924,\n 'drone/M300/北朝向60度（重拍）/DJI_0511.jpg': 925,\n 'drone/M300/北朝向60度（重拍）/DJI_0512.jpg': 926,\n 'drone/M300/北朝向60度（重拍）/DJI_0513.jpg': 927,\n 'drone/M300/北朝向60度（重拍）/DJI_0514.jpg': 928,\n 'drone/M300/北朝向60度（重拍）/DJI_0515.jpg': 929,\n 'drone/M300/北朝向60度（重拍）/DJI_0516.jpg': 930,\n 'drone/M300/北朝向60度（重拍）/DJI_0517.jpg': 931,\n 'drone/M300/北朝向60度（重拍）/DJI_0518.jpg': 932,\n 'drone/M300/北朝向60度（重拍）/DJI_0519.jpg': 933,\n 'drone/M300/北朝向60度（重拍）/DJI_0520.jpg': 934,\n 'drone/M300/北朝向60度（重拍）/DJI_0521.jpg': 935,\n 'drone/M300/北朝向60度（重拍）/DJI_0522.jpg': 936,\n 'drone/M300/北朝向60度（重拍）/DJI_0523.jpg': 937,\n 'drone/M300/北朝向60度（重拍）/DJI_0524.jpg': 938,\n 'drone/M300/北朝向60度（重拍）/DJI_0525.jpg': 939,\n 'drone/M300/北朝向60度（重拍）/DJI_0526.jpg': 940,\n 'drone/M300/北朝向60度（重拍）/DJI_0527.jpg': 941,\n 'drone/M300/北朝向60度（重拍）/DJI_0528.jpg': 942,\n 'drone/M300/北朝向60度（重拍）/DJI_0529.jpg': 943,\n 'drone/M300/北朝向60度（重拍）/DJI_0530.jpg': 944,\n 'drone/M300/北朝向60度（重拍）/DJI_0531.jpg': 945,\n 'drone/M300/北朝向60度（重拍）/DJI_0532.jpg': 946,\n 'drone/M300/北朝向60度（重拍）/DJI_0533.jpg': 947,\n 'drone/M300/北朝向60度（重拍）/DJI_0534.jpg': 948,\n 'drone/M300/北朝向60度（重拍）/DJI_0535.jpg': 949,\n 'drone/M300/北朝向60度（重拍）/DJI_0536.jpg': 950,\n 'drone/M300/北朝向60度（重拍）/DJI_0537.jpg': 951,\n 'drone/M300/北朝向60度（重拍）/DJI_0538.jpg': 952,\n 'drone/M300/北朝向60度（重拍）/DJI_0539.jpg': 953,\n 'drone/M300/北朝向60度（重拍）/DJI_0540.jpg': 954,\n 'drone/M300/北朝向60度（重拍）/DJI_0541.jpg': 955,\n 'drone/M300/北朝向60度（重拍）/DJI_0542.jpg': 956,\n 'drone/M300/北朝向60度（重拍）/DJI_0543.jpg': 957,\n 'drone/M300/北朝向60度（重拍）/DJI_0544.jpg': 958,\n 'drone/M300/北朝向60度（重拍）/DJI_0545.jpg': 959,\n 'drone/M300/北朝向60度（重拍）/DJI_0546.jpg': 960,\n 'drone/M300/北朝向60度（重拍）/DJI_0547.jpg': 961,\n 'drone/M300/北朝向60度（重拍）/DJI_0548.jpg': 962,\n 'drone/M300/北朝向60度（重拍）/DJI_0549.jpg': 963,\n 'drone/M300/北朝向60度（重拍）/DJI_0550.jpg': 964,\n 'drone/M300/北朝向60度（重拍）/DJI_0551.jpg': 965,\n 'drone/M300/北朝向60度（重拍）/DJI_0552.jpg': 966,\n 'drone/M300/北朝向60度（重拍）/DJI_0553.jpg': 967,\n 'drone/M300/北朝向60度（重拍）/DJI_0554.jpg': 968,\n 'drone/M300/北朝向60度（重拍）/DJI_0555.jpg': 969,\n 'drone/M300/北朝向60度（重拍）/DJI_0556.jpg': 970,\n 'drone/M300/北朝向60度（重拍）/DJI_0557.jpg': 971,\n 'drone/M300/北朝向60度（重拍）/DJI_0558.jpg': 972,\n 'drone/M300/北朝向60度（重拍）/DJI_0559.jpg': 973,\n 'drone/M300/北朝向60度（重拍）/DJI_0560.jpg': 974,\n 'drone/M300/北朝向60度（重拍）/DJI_0561.jpg': 975,\n 'drone/M300/北朝向60度（重拍）/DJI_0562.jpg': 976,\n 'drone/M300/北朝向60度（重拍）/DJI_0563.jpg': 977,\n 'drone/M300/北朝向60度（重拍）/DJI_0564.jpg': 978,\n 'drone/M300/北朝向60度（重拍）/DJI_0565.jpg': 979,\n 'drone/M300/北朝向60度（重拍）/DJI_0566.jpg': 980,\n 'drone/M300/北朝向60度（重拍）/DJI_0567.jpg': 981,\n 'drone/M300/北朝向60度（重拍）/DJI_0568.jpg': 982,\n 'drone/M300/北朝向60度（重拍）/DJI_0569.jpg': 983,\n 'drone/M300/北朝向60度（重拍）/DJI_0570.jpg': 984,\n 'drone/M300/北朝向60度（重拍）/DJI_0571.jpg': 985,\n 'drone/M300/北朝向60度（重拍）/DJI_0572.jpg': 986,\n 'drone/M300/北朝向60度（重拍）/DJI_0573.jpg': 987,\n 'drone/M300/北朝向60度（重拍）/DJI_0574.jpg': 988,\n 'drone/M300/北朝向60度（重拍）/DJI_0575.jpg': 989,\n 'drone/M300/北朝向60度（重拍）/DJI_0576.jpg': 990,\n 'drone/M300/北朝向60度（重拍）/DJI_0577.jpg': 991,\n 'drone/M300/北朝向60度（重拍）/DJI_0578.jpg': 992,\n 'drone/M300/北朝向60度（重拍）/DJI_0579.jpg': 993,\n 'drone/M300/北朝向60度（重拍）/DJI_0580.jpg': 994,\n 'drone/M300/北朝向60度（重拍）/DJI_0581.jpg': 995,\n 'drone/M300/北朝向60度（重拍）/DJI_0582.jpg': 996,\n 'drone/M300/北朝向60度（重拍）/DJI_0583.jpg': 997,\n 'drone/M300/北朝向60度（重拍）/DJI_0584.jpg': 998,\n 'drone/M300/北朝向60度（重拍）/DJI_0585.jpg': 999,\n ...}"
     },
     "execution_count": 5,
     "metadata": {},
     "output_type": "execute_result"
    }
   ],
   "execution_count": 5
  },
  {
   "metadata": {
    "ExecuteTime": {
     "end_time": "2024-05-28T11:30:04.495699Z",
     "start_time": "2024-05-28T11:30:04.486430Z"
    }
   },
   "cell_type": "code",
   "source": [
    "def get_cameras_by_image_list(image_list: list):\n",
    "    cameras = []\n",
    "    for i in image_list:\n",
    "        cameras.append(dataparser_outputs.train_set.cameras[image_name_to_camera_idx[i]])\n",
    "    return cameras"
   ],
   "id": "af78ef3b01a19382",
   "outputs": [],
   "execution_count": 6
  },
  {
   "cell_type": "code",
   "source": [
    "partitions = torch.load(os.path.join(partition_base_dir, \"partitions.pt\"),\n",
    "                        map_location=\"cpu\")\n",
    "\n",
    "orientation_transformation = partitions[\"orientation_transformation\"]\n",
    "\n",
    "model_paths = []\n",
    "for idx, i in enumerate(partitions[\"ids\"]):\n",
    "    if len(partitions[\"image_indices\"][idx]) < 32:\n",
    "        continue\n",
    "    model_paths.append((i, os.path.join(\n",
    "        \"../outputs/JNUAerial-0526/\",\n",
    "        f\"P_{i[0]:03d}_{i[1]:03d}.txt\")))\n",
    "partitions.keys(), model_paths"
   ],
   "metadata": {
    "collapsed": false,
    "ExecuteTime": {
     "end_time": "2024-05-28T11:30:04.514761Z",
     "start_time": "2024-05-28T11:30:04.497038Z"
    }
   },
   "id": "ee9525f81eb4561f",
   "outputs": [
    {
     "data": {
      "text/plain": "(dict_keys(['orientation_transformation', 'radius', 'xys', 'ids', 'image_indices']),\n [((-3, 0), '../outputs/JNUAerial-0526/P_-03_000.txt'),\n  ((-3, 1), '../outputs/JNUAerial-0526/P_-03_001.txt'),\n  ((-2, -2), '../outputs/JNUAerial-0526/P_-02_-02.txt'),\n  ((-2, -1), '../outputs/JNUAerial-0526/P_-02_-01.txt'),\n  ((-2, 0), '../outputs/JNUAerial-0526/P_-02_000.txt'),\n  ((-2, 1), '../outputs/JNUAerial-0526/P_-02_001.txt'),\n  ((-1, -2), '../outputs/JNUAerial-0526/P_-01_-02.txt'),\n  ((-1, -1), '../outputs/JNUAerial-0526/P_-01_-01.txt'),\n  ((-1, 0), '../outputs/JNUAerial-0526/P_-01_000.txt'),\n  ((-1, 1), '../outputs/JNUAerial-0526/P_-01_001.txt'),\n  ((0, -2), '../outputs/JNUAerial-0526/P_000_-02.txt'),\n  ((0, -1), '../outputs/JNUAerial-0526/P_000_-01.txt'),\n  ((0, 0), '../outputs/JNUAerial-0526/P_000_000.txt'),\n  ((0, 1), '../outputs/JNUAerial-0526/P_000_001.txt'),\n  ((1, -2), '../outputs/JNUAerial-0526/P_001_-02.txt'),\n  ((1, -1), '../outputs/JNUAerial-0526/P_001_-01.txt'),\n  ((1, 0), '../outputs/JNUAerial-0526/P_001_000.txt'),\n  ((1, 1), '../outputs/JNUAerial-0526/P_001_001.txt'),\n  ((2, -1), '../outputs/JNUAerial-0526/P_002_-01.txt')])"
     },
     "execution_count": 7,
     "metadata": {},
     "output_type": "execute_result"
    }
   ],
   "execution_count": 7
  },
  {
   "cell_type": "code",
   "source": [
    "partition_id_to_index = {i: idx for idx, i in enumerate(partitions[\"ids\"])}\n",
    "partition_id_to_index"
   ],
   "metadata": {
    "collapsed": false,
    "ExecuteTime": {
     "end_time": "2024-05-28T11:30:04.520269Z",
     "start_time": "2024-05-28T11:30:04.515700Z"
    }
   },
   "id": "f02fa7b891c1dd7f",
   "outputs": [
    {
     "data": {
      "text/plain": "{(-3, -2): 0,\n (-3, -1): 1,\n (-3, 0): 2,\n (-3, 1): 3,\n (-3, 2): 4,\n (-2, -2): 5,\n (-2, -1): 6,\n (-2, 0): 7,\n (-2, 1): 8,\n (-2, 2): 9,\n (-1, -2): 10,\n (-1, -1): 11,\n (-1, 0): 12,\n (-1, 1): 13,\n (-1, 2): 14,\n (0, -2): 15,\n (0, -1): 16,\n (0, 0): 17,\n (0, 1): 18,\n (0, 2): 19,\n (1, -2): 20,\n (1, -1): 21,\n (1, 0): 22,\n (1, 1): 23,\n (1, 2): 24,\n (2, -2): 25,\n (2, -1): 26,\n (2, 0): 27,\n (2, 1): 28,\n (2, 2): 29}"
     },
     "execution_count": 8,
     "metadata": {},
     "output_type": "execute_result"
    }
   ],
   "execution_count": 8
  },
  {
   "metadata": {
    "ExecuteTime": {
     "end_time": "2024-05-28T11:30:04.534125Z",
     "start_time": "2024-05-28T11:30:04.521178Z"
    }
   },
   "cell_type": "code",
   "source": [
    "# group name to image list\n",
    "with open(os.path.join(partition_base_dir, \"..\", \"appearance_image_dedicated.json\"), \"r\") as f:\n",
    "    appearance_groups = json.load(f)\n",
    "# image name to group name\n",
    "image_name_to_group_name = {}\n",
    "for group_name in appearance_groups:\n",
    "    image_names = appearance_groups[group_name]\n",
    "    for image_name in image_names:\n",
    "        image_name_to_group_name[image_name] = group_name"
   ],
   "id": "8c8a553fea3c80ee",
   "outputs": [],
   "execution_count": 9
  },
  {
   "metadata": {
    "ExecuteTime": {
     "end_time": "2024-05-26T14:42:36.791742Z",
     "start_time": "2024-05-26T14:42:36.788418Z"
    }
   },
   "cell_type": "code",
   "source": [
    "# def calculate_partition_features_dc(model_output_path, partition_id, ckpt, is_in_partition):\n",
    "#     # the ids of the groups in this model\n",
    "#     appearance_group_ids = torch.load(os.path.join(model_output_path, \"appearance_group_ids.pth\"))\n",
    "# \n",
    "#     # load partition image list, then get their correspond appearance ids\n",
    "#     partition_used_appearance_ids = []\n",
    "#     with open(os.path.join(partition_base_dir, f\"{partition_id[0]:03d}_{partition_id[1]:03d}.txt\"), \"r\") as f:\n",
    "#         for row in f:\n",
    "#             image_group_name = image_name_to_group_name[row.rstrip(\"\\n\")]\n",
    "#             partition_used_appearance_ids.append(appearance_group_ids[image_group_name][0])\n",
    "# \n",
    "#     # get average appearance embeddings of these used images\n",
    "#     average_appearance_embedding = ckpt[\"hyper_parameters\"][\"renderer\"].model.embedding(\n",
    "#         torch.tensor(partition_used_appearance_ids, dtype=torch.int)\n",
    "#     ).mean(dim=0)\n",
    "# \n",
    "#     # calculate rgb_offset from appearance embedding\n",
    "#     partition_features_extra = ckpt[\"state_dict\"][\"gaussian_model._features_extra\"][is_in_partition]\n",
    "#     appearance_mlp_input = torch.concat([partition_features_extra, average_appearance_embedding.unsqueeze(0).repeat(\n",
    "#         partition_features_extra.shape[0], 1)], dim=-1)\n",
    "#     rgb_offset = ckpt[\"hyper_parameters\"][\"renderer\"].model.network.to(\"cuda\")(appearance_mlp_input.to(\"cuda\")) * 2 - 1.\n",
    "# \n",
    "#     # calculate base_rgb from features_dc\n",
    "#     base_rgb = spherical_harmonics(0, torch.ones(partition_features_extra.shape[0], 3).to(\"cuda\"),\n",
    "#                                    ckpt[\"state_dict\"][\"gaussian_model._features_dc\"][is_in_partition].to(\"cuda\")) + 0.5\n",
    "# \n",
    "#     # calculate final rgb values\n",
    "#     rgbs = (base_rgb + rgb_offset).clamp(0., 1.)\n",
    "# \n",
    "#     # convert to SHs\n",
    "#     partition_features_dc = RGB2SH(rgbs).unsqueeze(1)\n",
    "# \n",
    "#     return partition_features_dc"
   ],
   "id": "717a6f51f3ed5698",
   "outputs": [],
   "execution_count": 10
  },
  {
   "cell_type": "code",
   "outputs": [],
   "source": [
    "def calculate_gaussian_scores(cameras, gaussian_model):\n",
    "    hit_count_list = []\n",
    "    opacity_score_list = []\n",
    "    alpha_score_list = []\n",
    "    all_visibility_score = torch.zeros((len(cameras), gaussian_model.get_xyz.shape[0]), dtype=torch.float, device=\"cpu\")\n",
    "    for idx, camera in tqdm(enumerate(cameras), total=len(cameras)):\n",
    "        hit_count, opacity_score, alpha_score, visibility_score = GSplatHitPixelCountRenderer.hit_pixel_count(\n",
    "            means3D=gaussian_model.get_xyz,\n",
    "            opacities=gaussian_model.get_opacity,\n",
    "            scales=gaussian_model.get_scaling,\n",
    "            rotations=gaussian_model.get_rotation,\n",
    "            viewpoint_camera=camera.to_device(\"cuda\"),\n",
    "        )\n",
    "        # hit_count_list.append(hit_count.cpu())\n",
    "        # opacity_score_list.append(opacity_score.cpu())\n",
    "        # alpha_score_list.append(alpha_score.cpu())\n",
    "        all_visibility_score[idx] = visibility_score.cpu()\n",
    "        # visibility_score_list.append(visibility_score.cpu())\n",
    "\n",
    "    torch.cuda.empty_cache()\n",
    "\n",
    "    return all_visibility_score"
   ],
   "metadata": {
    "collapsed": false,
    "ExecuteTime": {
     "end_time": "2024-05-28T11:30:04.539725Z",
     "start_time": "2024-05-28T11:30:04.535169Z"
    }
   },
   "id": "1d507ad9d2721107",
   "execution_count": 10
  },
  {
   "cell_type": "code",
   "outputs": [],
   "source": [
    "def calculate_partition_features_dc(image_list, ckpt, is_in_partition):\n",
    "    # get camera correspond to the image list\n",
    "    cameras = get_cameras_by_image_list(image_list)\n",
    "    # build appearance id, the order is the same as the list `cameras`\n",
    "    camera_index_to_appearance_id = torch.tensor([i.appearance_id for i in cameras], dtype=torch.int)\n",
    "\n",
    "    # get Gaussians located in partition to construct a new state_dict\n",
    "    state_dict = {}\n",
    "    for i in ckpt[\"state_dict\"]:\n",
    "        if i.startswith(\"gaussian_model._\"):\n",
    "            state_dict[i] = ckpt[\"state_dict\"][i][is_in_partition]\n",
    "\n",
    "    # construct Gaussian model\n",
    "    gaussian_model = GaussianModelSimplified.construct_from_state_dict(\n",
    "        state_dict,\n",
    "        active_sh_degree=ckpt[\"hyper_parameters\"][\"gaussian\"].sh_degree,\n",
    "        device=\"cuda\",\n",
    "    )\n",
    "\n",
    "    # calculate Gaussians' visibility score to each camera\n",
    "    visibility_score = calculate_gaussian_scores(cameras, gaussian_model).T  # [N_gaussians, N_cameras]\n",
    "    # calculate total visibility score for each Gaussian\n",
    "    visibility_score_acc = torch.sum(visibility_score, dim=-1)\n",
    "    # find Gaussian whose total visibility is closed to zero\n",
    "    visibility_score_acc_is_close_to_zero = torch.isclose(visibility_score_acc, torch.tensor(0.))\n",
    "    gaussian_to_preserve = ~visibility_score_acc_is_close_to_zero\n",
    "    # prune\n",
    "    for i in state_dict:\n",
    "        state_dict[i] = state_dict[i][gaussian_to_preserve]\n",
    "    visibility_score_pruned = visibility_score[~visibility_score_acc_is_close_to_zero]\n",
    "    del visibility_score\n",
    "\n",
    "    # get top `n_average_cameras` visibility cameras\n",
    "    n_average_cameras = 32\n",
    "    visibility_score_pruned_sorted = torch.topk(visibility_score_pruned, k=n_average_cameras, dim=-1)\n",
    "    visibility_score_pruned_top_k_acc = torch.sum(visibility_score_pruned_sorted.values, dim=-1, keepdim=True)\n",
    "    # calculate the weight of each camera\n",
    "    visibility_score_pruned_top_k_pdf = visibility_score_pruned_sorted.values / visibility_score_pruned_top_k_acc\n",
    "    assert torch.all(torch.isclose(visibility_score_pruned_top_k_pdf.sum(dim=-1), torch.tensor(1.)))\n",
    "\n",
    "    # pick appearance id\n",
    "    appearance_ids = camera_index_to_appearance_id[\n",
    "        visibility_score_pruned_sorted.indices.reshape(-1)]  # [N_gaussians * n_average_cameras]\n",
    "    # pick appearance embeddings\n",
    "    appearance_embeddings = ckpt[\"hyper_parameters\"][\"renderer\"].model.embedding(appearance_ids).reshape((\n",
    "        visibility_score_pruned_sorted.indices.shape[\n",
    "            0],\n",
    "        n_average_cameras,\n",
    "        -1))  # [N_gaussians, n_average_cameras, N_embedding_dims]\n",
    "    # multiple embedding with camera weighs\n",
    "    weighted_appearance_embeddings = appearance_embeddings * visibility_score_pruned_top_k_pdf.unsqueeze(-1)\n",
    "    # merge `n_average_cameras` embedding to a single embedding\n",
    "    final_appearance_embeddings = torch.sum(weighted_appearance_embeddings, dim=1)\n",
    "\n",
    "    # embedding network forward, output rgb_offset\n",
    "    embedding_network = ckpt[\"hyper_parameters\"][\"renderer\"].model.network.to(\"cuda\")\n",
    "    input_tensor = torch.concat([\n",
    "        state_dict[\"gaussian_model._features_extra\"],\n",
    "        final_appearance_embeddings,\n",
    "    ], dim=-1).to(\"cuda\")\n",
    "    rgb_offset = embedding_network(input_tensor)\n",
    "    # convert rgb_offset to SHs\n",
    "    sh_offset = RGB2SH(rgb_offset)\n",
    "\n",
    "    new_features_dc = state_dict[\"gaussian_model._features_dc\"] + sh_offset.unsqueeze(1).cpu()\n",
    "\n",
    "    return new_features_dc, gaussian_to_preserve"
   ],
   "metadata": {
    "collapsed": false,
    "ExecuteTime": {
     "end_time": "2024-05-28T11:30:04.550495Z",
     "start_time": "2024-05-28T11:30:04.540667Z"
    }
   },
   "id": "87248d18d4b2ac28",
   "execution_count": 11
  },
  {
   "cell_type": "code",
   "source": [
    "dtype = torch.float\n",
    "device = torch.device(\"cpu\")\n",
    "\n",
    "n_sh_degrees = 0\n",
    "xyzs = torch.zeros((0, 3), dtype=dtype, device=device)\n",
    "features_dc = torch.zeros((0, 1, 3), dtype=dtype, device=device)\n",
    "features_rest = torch.zeros((0, ((n_sh_degrees + 1) ** 2 - 1), 3), dtype=dtype, device=device)\n",
    "scales = torch.zeros((0, 3), dtype=dtype, device=device)\n",
    "rotations = torch.zeros((0, 4), dtype=dtype, device=device)\n",
    "opacities = torch.zeros((0, 1), dtype=dtype, device=device)\n",
    "\n",
    "with tqdm(model_paths) as t:\n",
    "    for i in t:\n",
    "        # if i[0] != (0, 0):\n",
    "        #     continue\n",
    "        with open(os.path.join(i[1], \"cameras.json\"), \"r\") as f:\n",
    "            cameras_json = json.load(f)\n",
    "        image_list = [i[\"img_name\"] for i in cameras_json]\n",
    "        \n",
    "        partition_xy = partitions[\"xys\"][partition_id_to_index[i[0]]]\n",
    "        load_file = GaussianModelLoader.search_load_file(i[1])\n",
    "        t.set_description(f\"{partition_xy}: {load_file}\")\n",
    "        ckpt = torch.load(load_file, map_location=device)\n",
    "        xyz = ckpt[\"state_dict\"][\"gaussian_model._xyz\"]\n",
    "        reoriented_xyz = xyz @ orientation_transformation[:3, :3].T\n",
    "        # include min bound, exclude max bound\n",
    "        is_in_partition = torch.logical_and(torch.ge(reoriented_xyz[:, :2], partition_xy),\n",
    "                                            torch.lt(reoriented_xyz[:, :2], partition_xy + 2 * partitions[\"radius\"]))\n",
    "        is_in_partition = torch.logical_and(is_in_partition[:, 0], is_in_partition[:, 1])\n",
    "\n",
    "        new_features_dc, gaussian_to_preserve = calculate_partition_features_dc(image_list, ckpt, is_in_partition)\n",
    "        gaussian_to_preserve = gaussian_to_preserve.to(device)\n",
    "\n",
    "        xyzs = torch.concat([xyzs, ckpt[\"state_dict\"][\"gaussian_model._xyz\"][is_in_partition][gaussian_to_preserve]])\n",
    "        features_dc = torch.concat([features_dc, new_features_dc.to(device)])\n",
    "        features_rest = torch.concat(\n",
    "            [features_rest, ckpt[\"state_dict\"][\"gaussian_model._features_rest\"][is_in_partition][gaussian_to_preserve]])\n",
    "        scales = torch.concat(\n",
    "            [scales, ckpt[\"state_dict\"][\"gaussian_model._scaling\"][is_in_partition][gaussian_to_preserve]])\n",
    "        rotations = torch.concat(\n",
    "            [rotations, ckpt[\"state_dict\"][\"gaussian_model._rotation\"][is_in_partition][gaussian_to_preserve]])\n",
    "        opacities = torch.concat(\n",
    "            [opacities, ckpt[\"state_dict\"][\"gaussian_model._opacity\"][is_in_partition][gaussian_to_preserve]])\n",
    "\n",
    "        torch.cuda.empty_cache()"
   ],
   "metadata": {
    "collapsed": false,
    "ExecuteTime": {
     "end_time": "2024-05-26T14:46:53.947326Z",
     "start_time": "2024-05-26T14:46:21.633393Z"
    }
   },
   "id": "fcbc9acc13582886",
   "outputs": [
    {
     "data": {
      "text/plain": "  0%|          | 0/19 [00:00<?, ?it/s]",
      "application/vnd.jupyter.widget-view+json": {
       "version_major": 2,
       "version_minor": 0,
       "model_id": "306ee510f3fe4575a73eab41793bf97e"
      }
     },
     "metadata": {},
     "output_type": "display_data"
    },
    {
     "name": "stdout",
     "output_type": "stream",
     "text": [
      "error occurred when parsing iteration from ../outputs/JNUAerial-0526/P_000_000.txt/checkpoints/pruned-gsplat-vanilla-renderer.ckpt: invalid literal for int() with base 10: '../outputs/JNUAerial-0526/P_000_000.txt/checkpoints/pruned-gsplat-vanilla-renderer'\n",
      "error occurred when parsing iteration from ../outputs/JNUAerial-0526/P_000_000.txt/checkpoints/pruned.ckpt: invalid literal for int() with base 10: '../outputs/JNUAerial-0526/P_000_000.txt/checkpoints/pruned'\n",
      "error occurred when parsing iteration from ../outputs/JNUAerial-0526/P_000_000.txt/checkpoints/pruned-closed-to-zero.ckpt: invalid literal for int() with base 10: '../outputs/JNUAerial-0526/P_000_000.txt/checkpoints/pruned-closed-to-zero'\n"
     ]
    },
    {
     "data": {
      "text/plain": "  0%|          | 0/1327 [00:00<?, ?it/s]",
      "application/vnd.jupyter.widget-view+json": {
       "version_major": 2,
       "version_minor": 0,
       "model_id": "a2eca41abc8d486884511bc7d96187f9"
      }
     },
     "metadata": {},
     "output_type": "display_data"
    }
   ],
   "execution_count": 14
  },
  {
   "cell_type": "code",
   "outputs": [
    {
     "data": {
      "text/plain": "'../outputs/JNUAerial-0526/P_000_000.txt'"
     },
     "execution_count": 19,
     "metadata": {},
     "output_type": "execute_result"
    }
   ],
   "source": [
    "# model_output_path = i[1]\n",
    "# model_output_path"
   ],
   "metadata": {
    "collapsed": false,
    "ExecuteTime": {
     "end_time": "2024-05-26T13:50:06.121164Z",
     "start_time": "2024-05-26T13:50:06.117018Z"
    }
   },
   "id": "8c6527bd1275eee6",
   "execution_count": 19
  },
  {
   "cell_type": "code",
   "execution_count": 20,
   "outputs": [],
   "source": [
    "# # load partition image list, then get their correspond appearance ids\n",
    "# partition_id = i[0]\n",
    "# partition_used_appearance_ids = []\n",
    "# image_list = []\n",
    "# with open(os.path.join(partition_base_dir, f\"{partition_id[0]:03d}_{partition_id[1]:03d}.txt\"), \"r\") as f:\n",
    "#     for row in f:\n",
    "#         image_list.append(row.rstrip(\"\\n\"))\n",
    "# \n",
    "# cameras = get_cameras_by_image_list(image_list)\n",
    "# state_dict = {}\n",
    "# for i in ckpt[\"state_dict\"]:\n",
    "#     if i.startswith(\"gaussian_model._\"):\n",
    "#         state_dict[i] = ckpt[\"state_dict\"][i][is_in_partition]\n",
    "# gaussian_model = GaussianModelSimplified.construct_from_state_dict(\n",
    "#     state_dict,\n",
    "#     active_sh_degree=ckpt[\"hyper_parameters\"][\"gaussian\"].sh_degree,\n",
    "#     device=\"cuda\",\n",
    "# )"
   ],
   "metadata": {
    "collapsed": false,
    "ExecuteTime": {
     "end_time": "2024-05-26T13:50:08.423541Z",
     "start_time": "2024-05-26T13:50:07.899820Z"
    }
   },
   "id": "8e46a8205e9dd16d"
  },
  {
   "cell_type": "code",
   "outputs": [],
   "source": [
    "# for i in state_dict:\n",
    "#     ckpt[\"state_dict\"][i] = state_dict[i]\n",
    "# torch.save(ckpt, os.path.join(model_output_path, \"checkpoints\", \"pruned.ckpt\"))"
   ],
   "metadata": {
    "collapsed": false,
    "ExecuteTime": {
     "end_time": "2024-05-26T13:50:18.428210Z",
     "start_time": "2024-05-26T13:50:13.277916Z"
    }
   },
   "id": "68211744578409bb",
   "execution_count": 21
  },
  {
   "cell_type": "code",
   "execution_count": 15,
   "outputs": [
    {
     "data": {
      "text/plain": "309"
     },
     "execution_count": 15,
     "metadata": {},
     "output_type": "execute_result"
    }
   ],
   "source": [
    "import gc\n",
    "\n",
    "gc.collect()"
   ],
   "metadata": {
    "collapsed": false,
    "ExecuteTime": {
     "end_time": "2024-05-26T14:47:01.328143Z",
     "start_time": "2024-05-26T14:47:01.191212Z"
    }
   },
   "id": "f92b0b84433b6f01"
  },
  {
   "cell_type": "code",
   "execution_count": 24,
   "outputs": [
    {
     "data": {
      "text/plain": "  0%|          | 0/1327 [00:00<?, ?it/s]",
      "application/vnd.jupyter.widget-view+json": {
       "version_major": 2,
       "version_minor": 0,
       "model_id": "848594a9335c4526a8039bfdddee1c83"
      }
     },
     "metadata": {},
     "output_type": "display_data"
    }
   ],
   "source": [
    "# # get the contribution to every camera of each Gaussian\n",
    "# visibility_score = calculate_gaussian_scores(cameras, gaussian_model)  # [N_cameras, N_gaussians]"
   ],
   "metadata": {
    "collapsed": false,
    "ExecuteTime": {
     "end_time": "2024-05-26T13:50:46.313537Z",
     "start_time": "2024-05-26T13:50:24.901557Z"
    }
   },
   "id": "e11633843bd34ed1"
  },
  {
   "cell_type": "code",
   "execution_count": 25,
   "outputs": [],
   "source": [
    "# visibility_score = visibility_score.T"
   ],
   "metadata": {
    "collapsed": false,
    "ExecuteTime": {
     "end_time": "2024-05-26T13:50:47.571743Z",
     "start_time": "2024-05-26T13:50:47.568562Z"
    }
   },
   "id": "c8101999ea35e477"
  },
  {
   "cell_type": "code",
   "execution_count": 26,
   "outputs": [
    {
     "data": {
      "text/plain": "torch.Size([2625505, 1327])"
     },
     "execution_count": 26,
     "metadata": {},
     "output_type": "execute_result"
    }
   ],
   "source": [
    "# visibility_score.shape  # [N_gaussians, N_cameras]"
   ],
   "metadata": {
    "collapsed": false,
    "ExecuteTime": {
     "end_time": "2024-05-26T13:50:49.442591Z",
     "start_time": "2024-05-26T13:50:49.438395Z"
    }
   },
   "id": "330d5ac7f812cc9b"
  },
  {
   "cell_type": "code",
   "outputs": [],
   "source": [
    "# visibility_score_acc = torch.sum(visibility_score, dim=-1)"
   ],
   "metadata": {
    "collapsed": false,
    "ExecuteTime": {
     "end_time": "2024-05-26T13:50:50.911893Z",
     "start_time": "2024-05-26T13:50:50.523665Z"
    }
   },
   "id": "16ede4f3f773e2e7",
   "execution_count": 27
  },
  {
   "cell_type": "code",
   "outputs": [
    {
     "data": {
      "text/plain": "tensor(1078576)"
     },
     "execution_count": 31,
     "metadata": {},
     "output_type": "execute_result"
    }
   ],
   "source": [
    "# visibility_score_acc_is_close_to_zero = torch.isclose(visibility_score_acc, torch.tensor(0.))\n",
    "# visibility_score_acc_is_close_to_zero.sum()"
   ],
   "metadata": {
    "collapsed": false,
    "ExecuteTime": {
     "end_time": "2024-05-26T13:51:20.193402Z",
     "start_time": "2024-05-26T13:51:20.184071Z"
    }
   },
   "id": "5403e5c277fa68d3",
   "execution_count": 31
  },
  {
   "cell_type": "code",
   "outputs": [
    {
     "data": {
      "text/plain": "torch.Size([2625505])"
     },
     "execution_count": 32,
     "metadata": {},
     "output_type": "execute_result"
    }
   ],
   "source": [
    "# visibility_score_acc_is_close_to_zero.shape"
   ],
   "metadata": {
    "collapsed": false,
    "ExecuteTime": {
     "end_time": "2024-05-26T13:51:23.865020Z",
     "start_time": "2024-05-26T13:51:23.860996Z"
    }
   },
   "id": "8fc7c9499f2d65af",
   "execution_count": 32
  },
  {
   "cell_type": "code",
   "outputs": [],
   "source": [
    "# for i in state_dict:\n",
    "#     state_dict[i] = state_dict[i][~visibility_score_acc_is_close_to_zero]\n",
    "# for i in state_dict:\n",
    "#     ckpt[\"state_dict\"][i] = state_dict[i]\n",
    "# torch.save(ckpt, os.path.join(model_output_path, \"checkpoints\", \"pruned-closed-to-zero.ckpt\"))"
   ],
   "metadata": {
    "collapsed": false,
    "ExecuteTime": {
     "end_time": "2024-05-26T13:51:30.017190Z",
     "start_time": "2024-05-26T13:51:26.226221Z"
    }
   },
   "id": "91232037d23e70d1",
   "execution_count": 33
  },
  {
   "cell_type": "code",
   "outputs": [],
   "source": [
    "# visibility_score_pruned = visibility_score[~visibility_score_acc_is_close_to_zero]"
   ],
   "metadata": {
    "collapsed": false,
    "ExecuteTime": {
     "end_time": "2024-05-26T13:55:36.099150Z",
     "start_time": "2024-05-26T13:55:34.445041Z"
    }
   },
   "id": "5456e5803cb814be",
   "execution_count": 40
  },
  {
   "cell_type": "code",
   "execution_count": 43,
   "outputs": [],
   "source": [
    "# # get top `n_average_cameras` camera by contribution\n",
    "# n_average_cameras = 32\n",
    "# visibility_score_pruned_sorted = torch.topk(visibility_score_pruned, k=n_average_cameras, dim=-1)"
   ],
   "metadata": {
    "collapsed": false,
    "ExecuteTime": {
     "end_time": "2024-05-26T13:55:51.853397Z",
     "start_time": "2024-05-26T13:55:50.843947Z"
    }
   },
   "id": "c9e04924d43dae96"
  },
  {
   "cell_type": "code",
   "outputs": [
    {
     "data": {
      "text/plain": "torch.Size([1546929, 32])"
     },
     "execution_count": 45,
     "metadata": {},
     "output_type": "execute_result"
    }
   ],
   "source": [
    "# visibility_score_pruned_sorted.indices.shape"
   ],
   "metadata": {
    "collapsed": false,
    "ExecuteTime": {
     "end_time": "2024-05-26T13:55:56.280599Z",
     "start_time": "2024-05-26T13:55:56.277022Z"
    }
   },
   "id": "c5538a08d114b981",
   "execution_count": 45
  },
  {
   "cell_type": "code",
   "outputs": [
    {
     "data": {
      "text/plain": "(tensor([1247, 1257, 1249, 1237, 1256, 1246, 1233, 1255, 1118, 1238, 1254, 1127,\n         1236,   61,  363,  364, 1248, 1114,  995, 1106, 1104, 1131, 1023, 1235,\n          356,  974,  362, 1132, 1128,   25, 1129, 1230]),\n tensor([0.0797, 0.0779, 0.0731, 0.0716, 0.0704, 0.0678, 0.0674, 0.0645, 0.0625,\n         0.0619, 0.0617, 0.0606, 0.0604, 0.0531, 0.0519, 0.0508, 0.0506, 0.0497,\n         0.0496, 0.0496, 0.0494, 0.0475, 0.0474, 0.0464, 0.0431, 0.0427, 0.0416,\n         0.0410, 0.0408, 0.0396, 0.0395, 0.0392]))"
     },
     "execution_count": 47,
     "metadata": {},
     "output_type": "execute_result"
    }
   ],
   "source": [
    "# visibility_score_pruned_sorted.indices[0], visibility_score_pruned_sorted.values[0]"
   ],
   "metadata": {
    "collapsed": false,
    "ExecuteTime": {
     "end_time": "2024-05-26T13:56:01.867290Z",
     "start_time": "2024-05-26T13:56:01.861960Z"
    }
   },
   "id": "ac86f0fdbbeb8e00",
   "execution_count": 47
  },
  {
   "cell_type": "code",
   "outputs": [],
   "source": [
    "# if some visibility of the 2nd-Kst cameras are closed to zero, use the 1st camera\n",
    "# visibility_score_sorted.indices[:, 1:] = torch.where(\n",
    "#     torch.isclose(visibility_score_sorted.values[:, 1:], torch.tensor(0.)),\n",
    "#     visibility_score_sorted.indices[:, :1],\n",
    "#     visibility_score_sorted.indices[:, 1:],\n",
    "# )\n",
    "# visibility_score_sorted.indices[0], visibility_score_sorted.values[0]"
   ],
   "metadata": {
    "collapsed": false,
    "ExecuteTime": {
     "end_time": "2024-05-26T13:08:25.969142Z",
     "start_time": "2024-05-26T13:08:25.802541Z"
    }
   },
   "id": "4b4003896897372c",
   "execution_count": 114
  },
  {
   "cell_type": "code",
   "outputs": [
    {
     "data": {
      "text/plain": "torch.Size([1546929, 1])"
     },
     "execution_count": 49,
     "metadata": {},
     "output_type": "execute_result"
    }
   ],
   "source": [
    "# visibility_score_pruned_top_k_acc = torch.sum(visibility_score_pruned_sorted.values, dim=-1, keepdim=True)\n",
    "# visibility_score_pruned_top_k_acc.shape"
   ],
   "metadata": {
    "collapsed": false,
    "ExecuteTime": {
     "end_time": "2024-05-26T13:56:12.732876Z",
     "start_time": "2024-05-26T13:56:12.721415Z"
    }
   },
   "id": "796e82754cb388c3",
   "execution_count": 49
  },
  {
   "cell_type": "code",
   "outputs": [
    {
     "data": {
      "text/plain": "(torch.Size([1546929, 32]), tensor(True))"
     },
     "execution_count": 60,
     "metadata": {},
     "output_type": "execute_result"
    }
   ],
   "source": [
    "# calculate the weight of each camera\n",
    "# visibility_score_pruned_top_k_pdf = visibility_score_pruned_sorted.values / visibility_score_pruned_top_k_acc\n",
    "# visibility_score_pruned_top_k_pdf.shape, torch.all(\n",
    "#     torch.isclose(visibility_score_pruned_top_k_pdf.sum(dim=-1), torch.tensor(1.)))"
   ],
   "metadata": {
    "collapsed": false,
    "ExecuteTime": {
     "end_time": "2024-05-26T13:58:27.184320Z",
     "start_time": "2024-05-26T13:58:27.149232Z"
    }
   },
   "id": "eee9844bf945f05c",
   "execution_count": 60
  },
  {
   "cell_type": "code",
   "outputs": [
    {
     "data": {
      "text/plain": "tensor([4856, 4855, 4854,  ..., 2329, 2330, 2331], dtype=torch.int32)"
     },
     "execution_count": 64,
     "metadata": {},
     "output_type": "execute_result"
    }
   ],
   "source": [
    "# camera_index_to_appearance_id = torch.tensor([i.appearance_id for i in cameras], dtype=torch.int)\n",
    "# camera_index_to_appearance_id"
   ],
   "metadata": {
    "collapsed": false,
    "ExecuteTime": {
     "end_time": "2024-05-26T13:59:10.485288Z",
     "start_time": "2024-05-26T13:59:10.467214Z"
    }
   },
   "id": "81649bdc51b47fe9",
   "execution_count": 64
  },
  {
   "cell_type": "code",
   "outputs": [
    {
     "data": {
      "text/plain": "torch.Size([49501728])"
     },
     "execution_count": 65,
     "metadata": {},
     "output_type": "execute_result"
    }
   ],
   "source": [
    "# appearance_ids = camera_index_to_appearance_id[visibility_score_pruned_sorted.indices.reshape(-1)]\n",
    "# appearance_ids.shape"
   ],
   "metadata": {
    "collapsed": false,
    "ExecuteTime": {
     "end_time": "2024-05-26T13:59:12.624881Z",
     "start_time": "2024-05-26T13:59:12.584989Z"
    }
   },
   "id": "a74def65d4fda68d",
   "execution_count": 65
  },
  {
   "cell_type": "code",
   "outputs": [],
   "source": [
    "# appearance_embeddings = ckpt[\"hyper_parameters\"][\"renderer\"].model.embedding(appearance_ids).reshape(\n",
    "#     (visibility_score_pruned_sorted.indices.shape[0], n_average_cameras, -1))"
   ],
   "metadata": {
    "collapsed": false,
    "ExecuteTime": {
     "end_time": "2024-05-26T13:59:36.173509Z",
     "start_time": "2024-05-26T13:59:34.604378Z"
    }
   },
   "id": "44e617694d1bfb8b",
   "execution_count": 67
  },
  {
   "cell_type": "code",
   "outputs": [],
   "source": [
    "# weighted_appearance_embeddings = appearance_embeddings * visibility_score_pruned_top_k_pdf.unsqueeze(-1)"
   ],
   "metadata": {
    "collapsed": false,
    "ExecuteTime": {
     "end_time": "2024-05-26T14:03:11.930291Z",
     "start_time": "2024-05-26T14:03:09.681213Z"
    }
   },
   "id": "eaec1c0ec5307c",
   "execution_count": 76
  },
  {
   "cell_type": "code",
   "outputs": [
    {
     "data": {
      "text/plain": "torch.Size([1546929, 128])"
     },
     "execution_count": 77,
     "metadata": {},
     "output_type": "execute_result"
    }
   ],
   "source": [
    "# final_appearance_embeddings = torch.sum(weighted_appearance_embeddings, dim=1)\n",
    "# final_appearance_embeddings.shape"
   ],
   "metadata": {
    "collapsed": false,
    "ExecuteTime": {
     "end_time": "2024-05-26T14:03:15.099806Z",
     "start_time": "2024-05-26T14:03:14.303091Z"
    }
   },
   "id": "94a94232278ec020",
   "execution_count": 77
  },
  {
   "cell_type": "code",
   "outputs": [],
   "source": [
    "# embedding_network = ckpt[\"hyper_parameters\"][\"renderer\"].model.network.to(\"cuda\")"
   ],
   "metadata": {
    "collapsed": false,
    "ExecuteTime": {
     "end_time": "2024-05-26T14:05:57.225580Z",
     "start_time": "2024-05-26T14:05:57.214402Z"
    }
   },
   "id": "8ed4e5e476ba3a35",
   "execution_count": 79
  },
  {
   "cell_type": "code",
   "outputs": [],
   "source": [
    "# input_tensor = torch.concat([state_dict[\"gaussian_model._features_extra\"], final_appearance_embeddings], dim=-1).to(\n",
    "#     \"cuda\")"
   ],
   "metadata": {
    "collapsed": false
   },
   "id": "314d50752b791923"
  },
  {
   "cell_type": "code",
   "outputs": [],
   "source": [
    "# rgb_offset = embedding_network(input_tensor)\n",
    "# rgb_offset"
   ],
   "metadata": {
    "collapsed": false
   },
   "id": "da3a3bb323a4aa39"
  },
  {
   "cell_type": "code",
   "outputs": [],
   "source": [
    "# sh_offset = RGB2SH(rgb_offset)"
   ],
   "metadata": {
    "collapsed": false
   },
   "id": "102826846fdf79c6"
  },
  {
   "cell_type": "code",
   "outputs": [],
   "source": [
    "# state_dict[\"gaussian_model._features_dc\"].shape, sh_offset.unsqueeze(1).cpu().shape"
   ],
   "metadata": {
    "collapsed": false
   },
   "id": "45dea05b0bd56cb7"
  },
  {
   "cell_type": "code",
   "outputs": [],
   "source": [
    "# new_features_dc = state_dict[\"gaussian_model._features_dc\"] + sh_offset.unsqueeze(1).cpu()"
   ],
   "metadata": {
    "collapsed": false
   },
   "id": "f778acb16b8aaf03"
  },
  {
   "cell_type": "code",
   "outputs": [],
   "source": [
    "# state_dict[\"gaussian_model._features_dc\"] = new_features_dc"
   ],
   "metadata": {
    "collapsed": false
   },
   "id": "2fedbf712bee5d7a"
  },
  {
   "cell_type": "code",
   "outputs": [],
   "source": [
    "state_dict_key_to_delete = []\n",
    "for i in ckpt[\"state_dict\"]:\n",
    "    if i.startswith(\"renderer.\"):\n",
    "        state_dict_key_to_delete.append(i)\n",
    "for i in state_dict_key_to_delete:\n",
    "    del ckpt[\"state_dict\"][i]"
   ],
   "metadata": {
    "collapsed": false,
    "ExecuteTime": {
     "end_time": "2024-05-26T14:48:40.768125Z",
     "start_time": "2024-05-26T14:48:40.764399Z"
    }
   },
   "id": "8acee341206bcd69",
   "execution_count": 18
  },
  {
   "cell_type": "code",
   "outputs": [],
   "source": [
    "# ckpt[\"hyper_parameters\"][\"renderer\"] = GSPlatRenderer()"
   ],
   "metadata": {
    "collapsed": false
   },
   "id": "ed1f335b73e4b5ea"
  },
  {
   "cell_type": "code",
   "outputs": [],
   "source": [
    "# for i in state_dict:\n",
    "#     ckpt[\"state_dict\"][i] = state_dict[i]\n",
    "# torch.save(ckpt, os.path.join(model_output_path, \"checkpoints\", \"pruned-gsplat-vanilla-renderer.ckpt\"))"
   ],
   "metadata": {
    "collapsed": false
   },
   "id": "5095b2c9ac762a9"
  },
  {
   "cell_type": "code",
   "source": [
    "ckpt[\"state_dict\"][\"gaussian_model._xyz\"] = xyzs\n",
    "ckpt[\"state_dict\"][\"gaussian_model._features_dc\"] = features_dc\n",
    "ckpt[\"state_dict\"][\"gaussian_model._features_rest\"] = features_rest\n",
    "ckpt[\"state_dict\"][\"gaussian_model._features_extra\"] = torch.empty((features_rest.shape[0], 0))\n",
    "ckpt[\"state_dict\"][\"gaussian_model._scaling\"] = scales\n",
    "ckpt[\"state_dict\"][\"gaussian_model._rotation\"] = rotations\n",
    "ckpt[\"state_dict\"][\"gaussian_model._opacity\"] = opacities\n",
    "ckpt[\"hyper_parameters\"][\"renderer\"] = GSPlatRenderer()"
   ],
   "metadata": {
    "collapsed": false,
    "ExecuteTime": {
     "end_time": "2024-05-26T14:48:42.021965Z",
     "start_time": "2024-05-26T14:48:42.017435Z"
    }
   },
   "id": "238014ab2588b142",
   "outputs": [],
   "execution_count": 19
  },
  {
   "cell_type": "code",
   "source": [
    "torch.save(ckpt, \"jnu_aerial-0526.ckpt\")"
   ],
   "metadata": {
    "collapsed": false,
    "ExecuteTime": {
     "end_time": "2024-05-26T14:48:50.645086Z",
     "start_time": "2024-05-26T14:48:45.922245Z"
    }
   },
   "id": "b617a8e290d97466",
   "outputs": [],
   "execution_count": 20
  },
  {
   "cell_type": "markdown",
   "source": [
    "Update specific partition"
   ],
   "metadata": {
    "collapsed": false
   },
   "id": "7cee25c7df9be830"
  },
  {
   "cell_type": "code",
   "source": [
    "dtype = torch.float\n",
    "device = torch.device(\"cpu\")\n",
    "\n",
    "input_path = \"../edited/20240415_232032.ckpt\"\n",
    "ckpt = torch.load(input_path, map_location=device)"
   ],
   "metadata": {
    "collapsed": false
   },
   "id": "43b2809b9c84dc6b",
   "outputs": [],
   "execution_count": null
  },
  {
   "cell_type": "code",
   "source": [
    "xyz = ckpt[\"state_dict\"][\"gaussian_model._xyz\"]\n",
    "reoriented_xyz = xyz @ orientation_transformation[:3, :3].T"
   ],
   "metadata": {
    "collapsed": false
   },
   "id": "a61b87380cde1776",
   "outputs": [],
   "execution_count": null
  },
  {
   "cell_type": "code",
   "source": [
    "target_partition_id = (0, 0)\n",
    "target_partition_ckpt = \"../outputs/JNUAerial/P_000_000.txt-random_background/checkpoints/epoch=19-step=30000.ckpt\""
   ],
   "metadata": {
    "collapsed": false
   },
   "id": "2f8d6df3ab155a33",
   "outputs": [],
   "execution_count": null
  },
  {
   "cell_type": "code",
   "source": [
    "partition_xy = partitions[\"xys\"][partition_id_to_index[target_partition_id]]\n",
    "partition_xy"
   ],
   "metadata": {
    "collapsed": false
   },
   "id": "e1e501ea2dd92c20",
   "outputs": [],
   "execution_count": null
  },
  {
   "cell_type": "code",
   "source": [
    "# include min bound, exclude max bound\n",
    "is_in_partition = torch.logical_and(torch.ge(reoriented_xyz[:, :2], partition_xy),\n",
    "                                    torch.lt(reoriented_xyz[:, :2], partition_xy + 2 * partitions[\"radius\"]))\n",
    "is_in_partition = torch.logical_and(is_in_partition[:, 0], is_in_partition[:, 1])\n",
    "is_in_partition.sum()"
   ],
   "metadata": {
    "collapsed": false
   },
   "id": "531791a4441b5601",
   "outputs": [],
   "execution_count": null
  },
  {
   "cell_type": "code",
   "source": [
    "# remove point inside partition\n",
    "not_in_partition = ~is_in_partition\n",
    "xyzs = ckpt[\"state_dict\"][\"gaussian_model._xyz\"][not_in_partition]\n",
    "features_dc = ckpt[\"state_dict\"][\"gaussian_model._features_dc\"][not_in_partition]\n",
    "features_rest = ckpt[\"state_dict\"][\"gaussian_model._features_rest\"][not_in_partition]\n",
    "scales = ckpt[\"state_dict\"][\"gaussian_model._scaling\"][not_in_partition]\n",
    "rotations = ckpt[\"state_dict\"][\"gaussian_model._rotation\"][not_in_partition]\n",
    "opacities = ckpt[\"state_dict\"][\"gaussian_model._opacity\"][not_in_partition]\n",
    "xyzs.shape"
   ],
   "metadata": {
    "collapsed": false
   },
   "id": "8eb6e6e5e711d195",
   "outputs": [],
   "execution_count": null
  },
  {
   "cell_type": "code",
   "source": [
    "partition_ckpt = torch.load(target_partition_ckpt, map_location=device)\n",
    "reoriented_partition_xyz = partition_ckpt[\"state_dict\"][\"gaussian_model._xyz\"] @ orientation_transformation[:3, :3].T"
   ],
   "metadata": {
    "collapsed": false
   },
   "id": "9c0dd03660d44e4f",
   "outputs": [],
   "execution_count": null
  },
  {
   "cell_type": "code",
   "source": [
    "is_in_partition = torch.logical_and(torch.ge(reoriented_partition_xyz[:, :2], partition_xy),\n",
    "                                    torch.lt(reoriented_partition_xyz[:, :2], partition_xy + 2 * partitions[\"radius\"]))\n",
    "is_in_partition = torch.logical_and(is_in_partition[:, 0], is_in_partition[:, 1])\n",
    "is_in_partition.sum()"
   ],
   "metadata": {
    "collapsed": false
   },
   "id": "5c4f27939520b775",
   "outputs": [],
   "execution_count": null
  },
  {
   "cell_type": "code",
   "source": [
    "xyzs = torch.concat([xyzs, partition_ckpt[\"state_dict\"][\"gaussian_model._xyz\"][is_in_partition]])\n",
    "features_dc = torch.concat([features_dc, partition_ckpt[\"state_dict\"][\"gaussian_model._features_dc\"][is_in_partition]])\n",
    "features_rest = torch.concat(\n",
    "    [features_rest, partition_ckpt[\"state_dict\"][\"gaussian_model._features_rest\"][is_in_partition]])\n",
    "scales = torch.concat([scales, partition_ckpt[\"state_dict\"][\"gaussian_model._scaling\"][is_in_partition]])\n",
    "rotations = torch.concat([rotations, partition_ckpt[\"state_dict\"][\"gaussian_model._rotation\"][is_in_partition]])\n",
    "opacities = torch.concat([opacities, partition_ckpt[\"state_dict\"][\"gaussian_model._opacity\"][is_in_partition]])"
   ],
   "metadata": {
    "collapsed": false
   },
   "id": "b9ee060a97f5904a",
   "outputs": [],
   "execution_count": null
  },
  {
   "cell_type": "code",
   "source": [
    "ckpt[\"state_dict\"][\"gaussian_model._xyz\"] = xyzs\n",
    "ckpt[\"state_dict\"][\"gaussian_model._features_dc\"] = features_dc\n",
    "ckpt[\"state_dict\"][\"gaussian_model._features_rest\"] = features_rest\n",
    "ckpt[\"state_dict\"][\"gaussian_model._scaling\"] = scales\n",
    "ckpt[\"state_dict\"][\"gaussian_model._rotation\"] = rotations\n",
    "ckpt[\"state_dict\"][\"gaussian_model._opacity\"] = opacities"
   ],
   "metadata": {
    "collapsed": false
   },
   "id": "d464b4aedd790170",
   "outputs": [],
   "execution_count": null
  },
  {
   "cell_type": "code",
   "source": [
    "torch.save(ckpt, \"jnu_aerial_new.ckpt\")"
   ],
   "metadata": {
    "collapsed": false
   },
   "id": "8da8389eee6bc915",
   "outputs": [],
   "execution_count": null
  },
  {
   "cell_type": "markdown",
   "source": [
    "LightGaussian"
   ],
   "metadata": {
    "collapsed": false
   },
   "id": "409d9666f371fd1f"
  },
  {
   "cell_type": "code",
   "outputs": [],
   "source": [
    "from internal.utils.light_gaussian import get_count_and_score, calculate_v_imp_score, get_prune_mask"
   ],
   "metadata": {
    "collapsed": false,
    "ExecuteTime": {
     "end_time": "2024-05-28T12:20:48.254438Z",
     "start_time": "2024-05-28T12:20:48.249875Z"
    }
   },
   "id": "dc53fde0dd5e5c98",
   "execution_count": 68
  },
  {
   "cell_type": "code",
   "outputs": [],
   "source": [
    "# get partition image list\n",
    "partition_id = (0, 0)\n",
    "image_list = []\n",
    "with open(os.path.join(partition_base_dir, f\"{partition_id[0]:03d}_{partition_id[1]:03d}.txt\"), \"r\") as f:\n",
    "    for row in f:\n",
    "        image_list.append(row.rstrip(\"\\n\"))\n",
    "\n",
    "# get camera correspond to the image list\n",
    "cameras = get_cameras_by_image_list(image_list)"
   ],
   "metadata": {
    "collapsed": false,
    "ExecuteTime": {
     "end_time": "2024-05-28T11:31:31.157627Z",
     "start_time": "2024-05-28T11:31:31.110243Z"
    }
   },
   "id": "35e57449fd5ebf40",
   "execution_count": 12
  },
  {
   "cell_type": "code",
   "outputs": [],
   "source": [
    "ckpt = torch.load(\"../outputs/JNUAerial-0526/P_000_000.txt/checkpoints/epoch=100-step=132700.ckpt\", map_location=\"cpu\")"
   ],
   "metadata": {
    "collapsed": false,
    "ExecuteTime": {
     "end_time": "2024-05-28T12:23:12.790342Z",
     "start_time": "2024-05-28T12:23:10.831015Z"
    }
   },
   "id": "a4d8deb25532bcfb",
   "execution_count": 73
  },
  {
   "cell_type": "code",
   "outputs": [
    {
     "data": {
      "text/plain": "tensor([0., 0.])"
     },
     "execution_count": 24,
     "metadata": {},
     "output_type": "execute_result"
    }
   ],
   "source": [
    "partition_xy = partitions[\"xys\"][partition_id_to_index[partition_id]]\n",
    "partition_xy"
   ],
   "metadata": {
    "collapsed": false,
    "ExecuteTime": {
     "end_time": "2024-05-28T11:40:45.957267Z",
     "start_time": "2024-05-28T11:40:45.952680Z"
    }
   },
   "id": "48d68606cdca713",
   "execution_count": 24
  },
  {
   "cell_type": "code",
   "outputs": [],
   "source": [
    "xyz = ckpt[\"state_dict\"][\"gaussian_model._xyz\"]\n",
    "reoriented_xyz = xyz @ orientation_transformation[:3, :3].T\n",
    "# include min bound, exclude max bound\n",
    "is_in_partition = torch.logical_and(torch.ge(reoriented_xyz[:, :2], partition_xy),\n",
    "                                    torch.lt(reoriented_xyz[:, :2], partition_xy + 2 * partitions[\"radius\"]))\n",
    "is_in_partition = torch.logical_and(is_in_partition[:, 0], is_in_partition[:, 1])"
   ],
   "metadata": {
    "collapsed": false,
    "ExecuteTime": {
     "end_time": "2024-05-28T12:06:16.288323Z",
     "start_time": "2024-05-28T12:06:16.223834Z"
    }
   },
   "id": "648f5d0dd506c507",
   "execution_count": 51
  },
  {
   "cell_type": "code",
   "outputs": [],
   "source": [
    "# get Gaussians located in partition to construct a new state_dict\n",
    "state_dict = {}\n",
    "for i in ckpt[\"state_dict\"]:\n",
    "    if i.startswith(\"gaussian_model._\"):\n",
    "        state_dict[i] = ckpt[\"state_dict\"][i][is_in_partition]"
   ],
   "metadata": {
    "collapsed": false,
    "ExecuteTime": {
     "end_time": "2024-05-28T12:06:16.435884Z",
     "start_time": "2024-05-28T12:06:16.289626Z"
    }
   },
   "id": "8477b4a611507cdf",
   "execution_count": 52
  },
  {
   "cell_type": "code",
   "outputs": [],
   "source": [
    "gaussian_model = GaussianModelSimplified.construct_from_state_dict(state_dict, 0, device=\"cuda\")"
   ],
   "metadata": {
    "collapsed": false,
    "ExecuteTime": {
     "end_time": "2024-05-28T12:06:16.516322Z",
     "start_time": "2024-05-28T12:06:16.436724Z"
    }
   },
   "id": "a5b973ed001b4ad5",
   "execution_count": 53
  },
  {
   "cell_type": "code",
   "outputs": [],
   "source": [
    "hit_camera_count_total = torch.zeros((gaussian_model.get_xyz.shape[0]), dtype=torch.int, device=gaussian_model.get_xyz.device)\n",
    "opacity_score_total = torch.zeros((gaussian_model.get_xyz.shape[0]), dtype=torch.float, device=gaussian_model.get_xyz.device)\n",
    "alpha_score_total = torch.zeros((gaussian_model.get_xyz.shape[0]), dtype=torch.float, device=gaussian_model.get_xyz.device)\n",
    "visibility_score_total = torch.zeros((gaussian_model.get_xyz.shape[0]), dtype=torch.float, device=gaussian_model.get_xyz.device)"
   ],
   "metadata": {
    "collapsed": false,
    "ExecuteTime": {
     "end_time": "2024-05-28T12:06:16.520554Z",
     "start_time": "2024-05-28T12:06:16.517329Z"
    }
   },
   "id": "37ccaed0fdad792e",
   "execution_count": 54
  },
  {
   "cell_type": "code",
   "outputs": [
    {
     "data": {
      "text/plain": "  0%|          | 0/1327 [00:00<?, ?it/s]",
      "application/vnd.jupyter.widget-view+json": {
       "version_major": 2,
       "version_minor": 0,
       "model_id": "5616721131404eedbb2190cfd267d3f9"
      }
     },
     "metadata": {},
     "output_type": "display_data"
    }
   ],
   "source": [
    "for idx, camera in tqdm(enumerate(cameras), total=len(cameras)):\n",
    "    hit_count, opacity_score, alpha_score, visibility_score = GSplatHitPixelCountRenderer.hit_pixel_count(\n",
    "        means3D=gaussian_model.get_xyz,\n",
    "        opacities=gaussian_model.get_opacity,\n",
    "        scales=gaussian_model.get_scaling,\n",
    "        rotations=gaussian_model.get_rotation,\n",
    "        viewpoint_camera=camera.to_device(\"cuda\"),\n",
    "    )\n",
    "    hit_camera_count_total += hit_count\n",
    "    opacity_score_total += opacity_score\n",
    "    alpha_score_total += alpha_score\n",
    "    visibility_score_total += visibility_score"
   ],
   "metadata": {
    "collapsed": false,
    "ExecuteTime": {
     "end_time": "2024-05-28T12:06:34.383455Z",
     "start_time": "2024-05-28T12:06:16.521321Z"
    }
   },
   "id": "a3354d0c81cb71c5",
   "execution_count": 55
  },
  {
   "cell_type": "code",
   "outputs": [
    {
     "data": {
      "text/plain": "(tensor(1078576, device='cuda:0'), 2625505)"
     },
     "execution_count": 56,
     "metadata": {},
     "output_type": "execute_result"
    }
   ],
   "source": [
    "visibility_close_to_zero = torch.isclose(visibility_score_total, torch.tensor(0.).to(visibility_score_total))\n",
    "visibility_close_to_zero.sum(), visibility_score_total.shape[0]"
   ],
   "metadata": {
    "collapsed": false,
    "ExecuteTime": {
     "end_time": "2024-05-28T12:06:37.414406Z",
     "start_time": "2024-05-28T12:06:37.408818Z"
    }
   },
   "id": "4f16527e7fe63a8d",
   "execution_count": 56
  },
  {
   "cell_type": "code",
   "outputs": [],
   "source": [
    "# gaussian_model.delete_gaussians(visibility_close_to_zero)"
   ],
   "metadata": {
    "collapsed": false,
    "ExecuteTime": {
     "end_time": "2024-05-28T11:43:45.860751Z",
     "start_time": "2024-05-28T11:43:45.857194Z"
    }
   },
   "id": "d8caa1009a39f20e",
   "execution_count": 33
  },
  {
   "cell_type": "code",
   "outputs": [],
   "source": [
    "# visible_gaussians = torch.bitwise_not(visibility_close_to_zero)\n",
    "# hit_camera_count_total = hit_camera_count_total[visible_gaussians]\n",
    "# opacity_score_total = opacity_score_total[visible_gaussians]\n",
    "# alpha_score_total = alpha_score_total[visible_gaussians]\n",
    "# visibility_score_total = visibility_score_total[visible_gaussians]"
   ],
   "metadata": {
    "collapsed": false,
    "ExecuteTime": {
     "end_time": "2024-05-28T11:45:14.374411Z",
     "start_time": "2024-05-28T11:45:14.363242Z"
    }
   },
   "id": "5e4b027a47481e40",
   "execution_count": 35
  },
  {
   "cell_type": "code",
   "outputs": [
    {
     "data": {
      "text/plain": "(tensor(1516758, device='cuda:0'), 1546929)"
     },
     "execution_count": 43,
     "metadata": {},
     "output_type": "execute_result"
    }
   ],
   "source": [
    "# (visibility_score_total > 1).sum(), visibility_score_total.shape[0]"
   ],
   "metadata": {
    "collapsed": false,
    "ExecuteTime": {
     "end_time": "2024-05-28T11:57:46.341289Z",
     "start_time": "2024-05-28T11:57:46.330027Z"
    }
   },
   "id": "3bf355a6fb3462ac",
   "execution_count": 43
  },
  {
   "cell_type": "code",
   "outputs": [
    {
     "data": {
      "text/plain": "torch.return_types.sort(\nvalues=tensor([10556.1768,  7398.8208,  7025.5332,  ...,     0.0000,     0.0000,\n            0.0000], device='cuda:0'),\nindices=tensor([  10403,   48924,  150677,  ..., 2625494, 2625495, 2625497],\n       device='cuda:0'))"
     },
     "execution_count": 58,
     "metadata": {},
     "output_type": "execute_result"
    }
   ],
   "source": [
    "visibility_score_total_sorted = torch.sort(visibility_score_total, descending=True)\n",
    "visibility_score_total_sorted"
   ],
   "metadata": {
    "collapsed": false,
    "ExecuteTime": {
     "end_time": "2024-05-28T12:07:20.375100Z",
     "start_time": "2024-05-28T12:07:20.370036Z"
    }
   },
   "id": "63b716fc72078823",
   "execution_count": 58
  },
  {
   "cell_type": "code",
   "outputs": [
    {
     "data": {
      "text/plain": "262550"
     },
     "execution_count": 61,
     "metadata": {},
     "output_type": "execute_result"
    }
   ],
   "source": [
    "preserve_indices = visibility_score_total_sorted.indices[:int(visibility_score_total_sorted.indices.shape[0] * 0.1)]\n",
    "preserve_indices.shape[0]"
   ],
   "metadata": {
    "collapsed": false,
    "ExecuteTime": {
     "end_time": "2024-05-28T12:08:38.792864Z",
     "start_time": "2024-05-28T12:08:38.788412Z"
    }
   },
   "id": "70f6aaf8237a0434",
   "execution_count": 61
  },
  {
   "cell_type": "code",
   "outputs": [],
   "source": [
    "for i in state_dict:\n",
    "    ckpt[\"state_dict\"][i] = state_dict[i][preserve_indices.to(ckpt[\"state_dict\"][i].device)].to(ckpt[\"state_dict\"][i].device)"
   ],
   "metadata": {
    "collapsed": false,
    "ExecuteTime": {
     "end_time": "2024-05-28T12:09:47.629415Z",
     "start_time": "2024-05-28T12:09:47.540760Z"
    }
   },
   "id": "5475c8c189ba339e",
   "execution_count": 65
  },
  {
   "cell_type": "code",
   "outputs": [],
   "source": [
    "torch.save(ckpt, \"visibility_pruned.ckpt\")"
   ],
   "metadata": {
    "collapsed": false,
    "ExecuteTime": {
     "end_time": "2024-05-28T12:10:15.934657Z",
     "start_time": "2024-05-28T12:10:12.265284Z"
    }
   },
   "id": "9db9872da9f83c2a",
   "execution_count": 67
  },
  {
   "cell_type": "markdown",
   "source": [
    "v_imp_score"
   ],
   "metadata": {
    "collapsed": false
   },
   "id": "a0f7f6b0d2bff8f6"
  },
  {
   "cell_type": "code",
   "outputs": [
    {
     "data": {
      "text/plain": "(tensor([   48.1802,  1207.9203,   880.4755,  ..., 18325.3379,  4711.0117,\n           317.6192], device='cuda:0'),\n torch.Size([2625505]))"
     },
     "execution_count": 70,
     "metadata": {},
     "output_type": "execute_result"
    }
   ],
   "source": [
    "v_imp_score = calculate_v_imp_score(gaussian_model.get_scaling, opacity_score_total, 0.1)\n",
    "v_imp_score, v_imp_score.shape"
   ],
   "metadata": {
    "collapsed": false,
    "ExecuteTime": {
     "end_time": "2024-05-28T12:22:30.511380Z",
     "start_time": "2024-05-28T12:22:30.505793Z"
    }
   },
   "id": "72772dc30f854e34",
   "execution_count": 70
  },
  {
   "cell_type": "code",
   "outputs": [
    {
     "data": {
      "text/plain": "(tensor(262551, device='cuda:0'), torch.Size([2625505]))"
     },
     "execution_count": 88,
     "metadata": {},
     "output_type": "execute_result"
    }
   ],
   "source": [
    "prune_mask = get_prune_mask(0.9, v_imp_score)\n",
    "preserve_mask = torch.bitwise_not(prune_mask)\n",
    "preserve_mask.sum(), preserve_mask.shape"
   ],
   "metadata": {
    "collapsed": false,
    "ExecuteTime": {
     "end_time": "2024-05-28T12:26:39.807786Z",
     "start_time": "2024-05-28T12:26:39.803174Z"
    }
   },
   "id": "baf51a7bb0445ca2",
   "execution_count": 88
  },
  {
   "cell_type": "code",
   "outputs": [],
   "source": [
    "for i in state_dict:\n",
    "    ckpt[\"state_dict\"][i] = state_dict[i][preserve_mask.to(ckpt[\"state_dict\"][i].device)].to(ckpt[\"state_dict\"][i].device)"
   ],
   "metadata": {
    "collapsed": false,
    "ExecuteTime": {
     "end_time": "2024-05-28T12:27:19.469557Z",
     "start_time": "2024-05-28T12:27:19.366414Z"
    }
   },
   "id": "f15db1b4613691b5",
   "execution_count": 89
  },
  {
   "cell_type": "code",
   "outputs": [],
   "source": [
    "torch.save(ckpt, \"opacity_score_pruned.ckpt\")"
   ],
   "metadata": {
    "collapsed": false,
    "ExecuteTime": {
     "end_time": "2024-05-28T12:27:42.490653Z",
     "start_time": "2024-05-28T12:27:38.934275Z"
    }
   },
   "id": "dc44c41c1b4e26b8",
   "execution_count": 90
  }
 ],
 "metadata": {
  "kernelspec": {
   "display_name": "Python 3",
   "language": "python",
   "name": "python3"
  },
  "language_info": {
   "codemirror_mode": {
    "name": "ipython",
    "version": 2
   },
   "file_extension": ".py",
   "mimetype": "text/x-python",
   "name": "python",
   "nbconvert_exporter": "python",
   "pygments_lexer": "ipython2",
   "version": "2.7.6"
  }
 },
 "nbformat": 4,
 "nbformat_minor": 5
}
